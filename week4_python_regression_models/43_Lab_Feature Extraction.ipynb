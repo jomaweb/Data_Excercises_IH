{
 "cells": [
  {
   "cell_type": "markdown",
   "metadata": {},
   "source": [
    "\n",
    "# Lab | Feature extraction\n",
    "\n",
    "#### Based on Lab | Cleaning Categorical Data\n",
    "\n",
    "\n",
    "For this lab, we will be using the same dataset we used in the previous labs. We recommend using the same notebook since you will be reusing the same variables you previous created and used in labs. \n",
    "\n",
    "### Instructions\n",
    "\n",
    "1. Open the `categoricals` variable we created before.\n",
    "\n",
    "```python\n",
    "categoricals = data.select_dtypes(np.object)\n",
    "categoricals.head()\n",
    "```\n",
    "\n",
    "2. Plot all the categorical variables with the proper plot. What can you see?\n",
    "3. There might be some columns that seem to be redundant, check their values to be sure. What should we do with them?\n",
    "4. Plot time variable. Can you extract something from it?\n",
    "\n",
    "\n"
   ]
  },
  {
   "cell_type": "code",
   "execution_count": 4,
   "metadata": {},
   "outputs": [],
   "source": [
    "import pandas as pd\n",
    "import numpy as np\n",
    "\n",
    "pd.set_option('display.max_columns', None)\n",
    "pd.set_option('display.max_rows', None)\n",
    "\n",
    "import warnings\n",
    "warnings.filterwarnings('ignore')\n",
    "\n",
    "import matplotlib.pyplot as plt\n",
    "import seaborn as sns \n",
    "%matplotlib inline\n",
    "\n",
    "sns.set_theme(style=\"ticks\", color_codes=True)\n",
    "\n",
    "\n",
    "\n",
    "# import sys\n",
    "# import statistics\n",
    "import math"
   ]
  },
  {
   "cell_type": "code",
   "execution_count": 5,
   "metadata": {},
   "outputs": [
    {
     "data": {
      "text/html": [
       "<div>\n",
       "<style scoped>\n",
       "    .dataframe tbody tr th:only-of-type {\n",
       "        vertical-align: middle;\n",
       "    }\n",
       "\n",
       "    .dataframe tbody tr th {\n",
       "        vertical-align: top;\n",
       "    }\n",
       "\n",
       "    .dataframe thead th {\n",
       "        text-align: right;\n",
       "    }\n",
       "</style>\n",
       "<table border=\"1\" class=\"dataframe\">\n",
       "  <thead>\n",
       "    <tr style=\"text-align: right;\">\n",
       "      <th></th>\n",
       "      <th>Customer</th>\n",
       "      <th>State</th>\n",
       "      <th>Customer Lifetime Value</th>\n",
       "      <th>Response</th>\n",
       "      <th>Coverage</th>\n",
       "      <th>Education</th>\n",
       "      <th>Effective To Date</th>\n",
       "      <th>EmploymentStatus</th>\n",
       "      <th>Gender</th>\n",
       "      <th>Income</th>\n",
       "      <th>Location Code</th>\n",
       "      <th>Marital Status</th>\n",
       "      <th>Monthly Premium Auto</th>\n",
       "      <th>Months Since Last Claim</th>\n",
       "      <th>Months Since Policy Inception</th>\n",
       "      <th>Number of Open Complaints</th>\n",
       "      <th>Number of Policies</th>\n",
       "      <th>Policy Type</th>\n",
       "      <th>Policy</th>\n",
       "      <th>Renew Offer Type</th>\n",
       "      <th>Sales Channel</th>\n",
       "      <th>Total Claim Amount</th>\n",
       "      <th>Vehicle Class</th>\n",
       "      <th>Vehicle Size</th>\n",
       "    </tr>\n",
       "  </thead>\n",
       "  <tbody>\n",
       "    <tr>\n",
       "      <th>0</th>\n",
       "      <td>BU79786</td>\n",
       "      <td>Washington</td>\n",
       "      <td>2763.519279</td>\n",
       "      <td>No</td>\n",
       "      <td>Basic</td>\n",
       "      <td>Bachelor</td>\n",
       "      <td>2/24/11</td>\n",
       "      <td>Employed</td>\n",
       "      <td>F</td>\n",
       "      <td>56274</td>\n",
       "      <td>Suburban</td>\n",
       "      <td>Married</td>\n",
       "      <td>69</td>\n",
       "      <td>32</td>\n",
       "      <td>5</td>\n",
       "      <td>0</td>\n",
       "      <td>1</td>\n",
       "      <td>Corporate Auto</td>\n",
       "      <td>Corporate L3</td>\n",
       "      <td>Offer1</td>\n",
       "      <td>Agent</td>\n",
       "      <td>384.811147</td>\n",
       "      <td>Two-Door Car</td>\n",
       "      <td>Medsize</td>\n",
       "    </tr>\n",
       "    <tr>\n",
       "      <th>1</th>\n",
       "      <td>QZ44356</td>\n",
       "      <td>Arizona</td>\n",
       "      <td>6979.535903</td>\n",
       "      <td>No</td>\n",
       "      <td>Extended</td>\n",
       "      <td>Bachelor</td>\n",
       "      <td>1/31/11</td>\n",
       "      <td>Unemployed</td>\n",
       "      <td>F</td>\n",
       "      <td>0</td>\n",
       "      <td>Suburban</td>\n",
       "      <td>Single</td>\n",
       "      <td>94</td>\n",
       "      <td>13</td>\n",
       "      <td>42</td>\n",
       "      <td>0</td>\n",
       "      <td>8</td>\n",
       "      <td>Personal Auto</td>\n",
       "      <td>Personal L3</td>\n",
       "      <td>Offer3</td>\n",
       "      <td>Agent</td>\n",
       "      <td>1131.464935</td>\n",
       "      <td>Four-Door Car</td>\n",
       "      <td>Medsize</td>\n",
       "    </tr>\n",
       "    <tr>\n",
       "      <th>2</th>\n",
       "      <td>AI49188</td>\n",
       "      <td>Nevada</td>\n",
       "      <td>12887.431650</td>\n",
       "      <td>No</td>\n",
       "      <td>Premium</td>\n",
       "      <td>Bachelor</td>\n",
       "      <td>2/19/11</td>\n",
       "      <td>Employed</td>\n",
       "      <td>F</td>\n",
       "      <td>48767</td>\n",
       "      <td>Suburban</td>\n",
       "      <td>Married</td>\n",
       "      <td>108</td>\n",
       "      <td>18</td>\n",
       "      <td>38</td>\n",
       "      <td>0</td>\n",
       "      <td>2</td>\n",
       "      <td>Personal Auto</td>\n",
       "      <td>Personal L3</td>\n",
       "      <td>Offer1</td>\n",
       "      <td>Agent</td>\n",
       "      <td>566.472247</td>\n",
       "      <td>Two-Door Car</td>\n",
       "      <td>Medsize</td>\n",
       "    </tr>\n",
       "    <tr>\n",
       "      <th>3</th>\n",
       "      <td>WW63253</td>\n",
       "      <td>California</td>\n",
       "      <td>7645.861827</td>\n",
       "      <td>No</td>\n",
       "      <td>Basic</td>\n",
       "      <td>Bachelor</td>\n",
       "      <td>1/20/11</td>\n",
       "      <td>Unemployed</td>\n",
       "      <td>M</td>\n",
       "      <td>0</td>\n",
       "      <td>Suburban</td>\n",
       "      <td>Married</td>\n",
       "      <td>106</td>\n",
       "      <td>18</td>\n",
       "      <td>65</td>\n",
       "      <td>0</td>\n",
       "      <td>7</td>\n",
       "      <td>Corporate Auto</td>\n",
       "      <td>Corporate L2</td>\n",
       "      <td>Offer1</td>\n",
       "      <td>Call Center</td>\n",
       "      <td>529.881344</td>\n",
       "      <td>SUV</td>\n",
       "      <td>Medsize</td>\n",
       "    </tr>\n",
       "  </tbody>\n",
       "</table>\n",
       "</div>"
      ],
      "text/plain": [
       "  Customer       State  Customer Lifetime Value Response  Coverage Education  \\\n",
       "0  BU79786  Washington              2763.519279       No     Basic  Bachelor   \n",
       "1  QZ44356     Arizona              6979.535903       No  Extended  Bachelor   \n",
       "2  AI49188      Nevada             12887.431650       No   Premium  Bachelor   \n",
       "3  WW63253  California              7645.861827       No     Basic  Bachelor   \n",
       "\n",
       "  Effective To Date EmploymentStatus Gender  Income Location Code  \\\n",
       "0           2/24/11         Employed      F   56274      Suburban   \n",
       "1           1/31/11       Unemployed      F       0      Suburban   \n",
       "2           2/19/11         Employed      F   48767      Suburban   \n",
       "3           1/20/11       Unemployed      M       0      Suburban   \n",
       "\n",
       "  Marital Status  Monthly Premium Auto  Months Since Last Claim  \\\n",
       "0        Married                    69                       32   \n",
       "1         Single                    94                       13   \n",
       "2        Married                   108                       18   \n",
       "3        Married                   106                       18   \n",
       "\n",
       "   Months Since Policy Inception  Number of Open Complaints  \\\n",
       "0                              5                          0   \n",
       "1                             42                          0   \n",
       "2                             38                          0   \n",
       "3                             65                          0   \n",
       "\n",
       "   Number of Policies     Policy Type        Policy Renew Offer Type  \\\n",
       "0                   1  Corporate Auto  Corporate L3           Offer1   \n",
       "1                   8   Personal Auto   Personal L3           Offer3   \n",
       "2                   2   Personal Auto   Personal L3           Offer1   \n",
       "3                   7  Corporate Auto  Corporate L2           Offer1   \n",
       "\n",
       "  Sales Channel  Total Claim Amount  Vehicle Class Vehicle Size  \n",
       "0         Agent          384.811147   Two-Door Car      Medsize  \n",
       "1         Agent         1131.464935  Four-Door Car      Medsize  \n",
       "2         Agent          566.472247   Two-Door Car      Medsize  \n",
       "3   Call Center          529.881344            SUV      Medsize  "
      ]
     },
     "execution_count": 5,
     "metadata": {},
     "output_type": "execute_result"
    }
   ],
   "source": [
    "data = pd.read_csv('/home/mono/gitHub/Ironweek4/we_fn_use_c_marketing_customer_value_analysis.csv')\n",
    "data.head(4)"
   ]
  },
  {
   "cell_type": "code",
   "execution_count": 6,
   "metadata": {},
   "outputs": [
    {
     "data": {
      "text/plain": [
       "(9134, 24)"
      ]
     },
     "execution_count": 6,
     "metadata": {},
     "output_type": "execute_result"
    }
   ],
   "source": [
    "data.shape"
   ]
  },
  {
   "cell_type": "code",
   "execution_count": 4,
   "metadata": {},
   "outputs": [
    {
     "name": "stdout",
     "output_type": "stream",
     "text": [
      "<class 'pandas.core.frame.DataFrame'>\n",
      "RangeIndex: 9134 entries, 0 to 9133\n",
      "Data columns (total 24 columns):\n",
      " #   Column                         Non-Null Count  Dtype  \n",
      "---  ------                         --------------  -----  \n",
      " 0   Customer                       9134 non-null   object \n",
      " 1   State                          9134 non-null   object \n",
      " 2   Customer Lifetime Value        9134 non-null   float64\n",
      " 3   Response                       9134 non-null   object \n",
      " 4   Coverage                       9134 non-null   object \n",
      " 5   Education                      9134 non-null   object \n",
      " 6   Effective To Date              9134 non-null   object \n",
      " 7   EmploymentStatus               9134 non-null   object \n",
      " 8   Gender                         9134 non-null   object \n",
      " 9   Income                         9134 non-null   int64  \n",
      " 10  Location Code                  9134 non-null   object \n",
      " 11  Marital Status                 9134 non-null   object \n",
      " 12  Monthly Premium Auto           9134 non-null   int64  \n",
      " 13  Months Since Last Claim        9134 non-null   int64  \n",
      " 14  Months Since Policy Inception  9134 non-null   int64  \n",
      " 15  Number of Open Complaints      9134 non-null   int64  \n",
      " 16  Number of Policies             9134 non-null   int64  \n",
      " 17  Policy Type                    9134 non-null   object \n",
      " 18  Policy                         9134 non-null   object \n",
      " 19  Renew Offer Type               9134 non-null   object \n",
      " 20  Sales Channel                  9134 non-null   object \n",
      " 21  Total Claim Amount             9134 non-null   float64\n",
      " 22  Vehicle Class                  9134 non-null   object \n",
      " 23  Vehicle Size                   9134 non-null   object \n",
      "dtypes: float64(2), int64(6), object(16)\n",
      "memory usage: 1.7+ MB\n"
     ]
    }
   ],
   "source": [
    "data.info()"
   ]
  },
  {
   "cell_type": "code",
   "execution_count": 7,
   "metadata": {},
   "outputs": [],
   "source": [
    "cols = []\n",
    "for i in range(len(data.columns)):\n",
    "    cols.append(data.columns[i].lower().replace(\" \",\"_\"))\n",
    "data.columns = cols"
   ]
  },
  {
   "cell_type": "code",
   "execution_count": 8,
   "metadata": {},
   "outputs": [
    {
     "data": {
      "text/html": [
       "<div>\n",
       "<style scoped>\n",
       "    .dataframe tbody tr th:only-of-type {\n",
       "        vertical-align: middle;\n",
       "    }\n",
       "\n",
       "    .dataframe tbody tr th {\n",
       "        vertical-align: top;\n",
       "    }\n",
       "\n",
       "    .dataframe thead th {\n",
       "        text-align: right;\n",
       "    }\n",
       "</style>\n",
       "<table border=\"1\" class=\"dataframe\">\n",
       "  <thead>\n",
       "    <tr style=\"text-align: right;\">\n",
       "      <th></th>\n",
       "      <th>customer</th>\n",
       "      <th>state</th>\n",
       "      <th>customer_lifetime_value</th>\n",
       "      <th>response</th>\n",
       "      <th>coverage</th>\n",
       "      <th>education</th>\n",
       "      <th>effective_to_date</th>\n",
       "      <th>employmentstatus</th>\n",
       "      <th>gender</th>\n",
       "      <th>income</th>\n",
       "      <th>location_code</th>\n",
       "      <th>marital_status</th>\n",
       "      <th>monthly_premium_auto</th>\n",
       "      <th>months_since_last_claim</th>\n",
       "      <th>months_since_policy_inception</th>\n",
       "      <th>number_of_open_complaints</th>\n",
       "      <th>number_of_policies</th>\n",
       "      <th>policy_type</th>\n",
       "      <th>policy</th>\n",
       "      <th>renew_offer_type</th>\n",
       "      <th>sales_channel</th>\n",
       "      <th>total_claim_amount</th>\n",
       "      <th>vehicle_class</th>\n",
       "      <th>vehicle_size</th>\n",
       "    </tr>\n",
       "  </thead>\n",
       "  <tbody>\n",
       "    <tr>\n",
       "      <th>0</th>\n",
       "      <td>BU79786</td>\n",
       "      <td>Washington</td>\n",
       "      <td>2763.519279</td>\n",
       "      <td>No</td>\n",
       "      <td>Basic</td>\n",
       "      <td>Bachelor</td>\n",
       "      <td>2/24/11</td>\n",
       "      <td>Employed</td>\n",
       "      <td>F</td>\n",
       "      <td>56274</td>\n",
       "      <td>Suburban</td>\n",
       "      <td>Married</td>\n",
       "      <td>69</td>\n",
       "      <td>32</td>\n",
       "      <td>5</td>\n",
       "      <td>0</td>\n",
       "      <td>1</td>\n",
       "      <td>Corporate Auto</td>\n",
       "      <td>Corporate L3</td>\n",
       "      <td>Offer1</td>\n",
       "      <td>Agent</td>\n",
       "      <td>384.811147</td>\n",
       "      <td>Two-Door Car</td>\n",
       "      <td>Medsize</td>\n",
       "    </tr>\n",
       "  </tbody>\n",
       "</table>\n",
       "</div>"
      ],
      "text/plain": [
       "  customer       state  customer_lifetime_value response coverage education  \\\n",
       "0  BU79786  Washington              2763.519279       No    Basic  Bachelor   \n",
       "\n",
       "  effective_to_date employmentstatus gender  income location_code  \\\n",
       "0           2/24/11         Employed      F   56274      Suburban   \n",
       "\n",
       "  marital_status  monthly_premium_auto  months_since_last_claim  \\\n",
       "0        Married                    69                       32   \n",
       "\n",
       "   months_since_policy_inception  number_of_open_complaints  \\\n",
       "0                              5                          0   \n",
       "\n",
       "   number_of_policies     policy_type        policy renew_offer_type  \\\n",
       "0                   1  Corporate Auto  Corporate L3           Offer1   \n",
       "\n",
       "  sales_channel  total_claim_amount vehicle_class vehicle_size  \n",
       "0         Agent          384.811147  Two-Door Car      Medsize  "
      ]
     },
     "execution_count": 8,
     "metadata": {},
     "output_type": "execute_result"
    }
   ],
   "source": [
    "data.head(1)"
   ]
  },
  {
   "cell_type": "code",
   "execution_count": 9,
   "metadata": {},
   "outputs": [],
   "source": [
    "data['effective_to_date'] = pd.to_datetime(data['effective_to_date'], errors='coerce')"
   ]
  },
  {
   "cell_type": "code",
   "execution_count": 10,
   "metadata": {},
   "outputs": [
    {
     "data": {
      "text/plain": [
       "dtype('<M8[ns]')"
      ]
     },
     "execution_count": 10,
     "metadata": {},
     "output_type": "execute_result"
    }
   ],
   "source": [
    "data['effective_to_date'].dtype"
   ]
  },
  {
   "cell_type": "markdown",
   "metadata": {},
   "source": [
    "### Divide categorical and numerical"
   ]
  },
  {
   "cell_type": "code",
   "execution_count": 11,
   "metadata": {},
   "outputs": [
    {
     "data": {
      "text/html": [
       "<div>\n",
       "<style scoped>\n",
       "    .dataframe tbody tr th:only-of-type {\n",
       "        vertical-align: middle;\n",
       "    }\n",
       "\n",
       "    .dataframe tbody tr th {\n",
       "        vertical-align: top;\n",
       "    }\n",
       "\n",
       "    .dataframe thead th {\n",
       "        text-align: right;\n",
       "    }\n",
       "</style>\n",
       "<table border=\"1\" class=\"dataframe\">\n",
       "  <thead>\n",
       "    <tr style=\"text-align: right;\">\n",
       "      <th></th>\n",
       "      <th>customer_lifetime_value</th>\n",
       "      <th>income</th>\n",
       "      <th>monthly_premium_auto</th>\n",
       "      <th>months_since_last_claim</th>\n",
       "      <th>months_since_policy_inception</th>\n",
       "      <th>number_of_open_complaints</th>\n",
       "      <th>number_of_policies</th>\n",
       "      <th>total_claim_amount</th>\n",
       "    </tr>\n",
       "  </thead>\n",
       "  <tbody>\n",
       "    <tr>\n",
       "      <th>0</th>\n",
       "      <td>2763.519279</td>\n",
       "      <td>56274</td>\n",
       "      <td>69</td>\n",
       "      <td>32</td>\n",
       "      <td>5</td>\n",
       "      <td>0</td>\n",
       "      <td>1</td>\n",
       "      <td>384.811147</td>\n",
       "    </tr>\n",
       "    <tr>\n",
       "      <th>1</th>\n",
       "      <td>6979.535903</td>\n",
       "      <td>0</td>\n",
       "      <td>94</td>\n",
       "      <td>13</td>\n",
       "      <td>42</td>\n",
       "      <td>0</td>\n",
       "      <td>8</td>\n",
       "      <td>1131.464935</td>\n",
       "    </tr>\n",
       "    <tr>\n",
       "      <th>2</th>\n",
       "      <td>12887.431650</td>\n",
       "      <td>48767</td>\n",
       "      <td>108</td>\n",
       "      <td>18</td>\n",
       "      <td>38</td>\n",
       "      <td>0</td>\n",
       "      <td>2</td>\n",
       "      <td>566.472247</td>\n",
       "    </tr>\n",
       "    <tr>\n",
       "      <th>3</th>\n",
       "      <td>7645.861827</td>\n",
       "      <td>0</td>\n",
       "      <td>106</td>\n",
       "      <td>18</td>\n",
       "      <td>65</td>\n",
       "      <td>0</td>\n",
       "      <td>7</td>\n",
       "      <td>529.881344</td>\n",
       "    </tr>\n",
       "    <tr>\n",
       "      <th>4</th>\n",
       "      <td>2813.692575</td>\n",
       "      <td>43836</td>\n",
       "      <td>73</td>\n",
       "      <td>12</td>\n",
       "      <td>44</td>\n",
       "      <td>0</td>\n",
       "      <td>1</td>\n",
       "      <td>138.130879</td>\n",
       "    </tr>\n",
       "  </tbody>\n",
       "</table>\n",
       "</div>"
      ],
      "text/plain": [
       "   customer_lifetime_value  income  monthly_premium_auto  \\\n",
       "0              2763.519279   56274                    69   \n",
       "1              6979.535903       0                    94   \n",
       "2             12887.431650   48767                   108   \n",
       "3              7645.861827       0                   106   \n",
       "4              2813.692575   43836                    73   \n",
       "\n",
       "   months_since_last_claim  months_since_policy_inception  \\\n",
       "0                       32                              5   \n",
       "1                       13                             42   \n",
       "2                       18                             38   \n",
       "3                       18                             65   \n",
       "4                       12                             44   \n",
       "\n",
       "   number_of_open_complaints  number_of_policies  total_claim_amount  \n",
       "0                          0                   1          384.811147  \n",
       "1                          0                   8         1131.464935  \n",
       "2                          0                   2          566.472247  \n",
       "3                          0                   7          529.881344  \n",
       "4                          0                   1          138.130879  "
      ]
     },
     "execution_count": 11,
     "metadata": {},
     "output_type": "execute_result"
    }
   ],
   "source": [
    "num = data.select_dtypes(np.number)\n",
    "num.head()"
   ]
  },
  {
   "cell_type": "code",
   "execution_count": 12,
   "metadata": {},
   "outputs": [
    {
     "data": {
      "text/html": [
       "<div>\n",
       "<style scoped>\n",
       "    .dataframe tbody tr th:only-of-type {\n",
       "        vertical-align: middle;\n",
       "    }\n",
       "\n",
       "    .dataframe tbody tr th {\n",
       "        vertical-align: top;\n",
       "    }\n",
       "\n",
       "    .dataframe thead th {\n",
       "        text-align: right;\n",
       "    }\n",
       "</style>\n",
       "<table border=\"1\" class=\"dataframe\">\n",
       "  <thead>\n",
       "    <tr style=\"text-align: right;\">\n",
       "      <th></th>\n",
       "      <th>customer</th>\n",
       "      <th>state</th>\n",
       "      <th>response</th>\n",
       "      <th>coverage</th>\n",
       "      <th>education</th>\n",
       "      <th>employmentstatus</th>\n",
       "      <th>gender</th>\n",
       "      <th>location_code</th>\n",
       "      <th>marital_status</th>\n",
       "      <th>policy_type</th>\n",
       "      <th>policy</th>\n",
       "      <th>renew_offer_type</th>\n",
       "      <th>sales_channel</th>\n",
       "      <th>vehicle_class</th>\n",
       "      <th>vehicle_size</th>\n",
       "    </tr>\n",
       "  </thead>\n",
       "  <tbody>\n",
       "    <tr>\n",
       "      <th>0</th>\n",
       "      <td>BU79786</td>\n",
       "      <td>Washington</td>\n",
       "      <td>No</td>\n",
       "      <td>Basic</td>\n",
       "      <td>Bachelor</td>\n",
       "      <td>Employed</td>\n",
       "      <td>F</td>\n",
       "      <td>Suburban</td>\n",
       "      <td>Married</td>\n",
       "      <td>Corporate Auto</td>\n",
       "      <td>Corporate L3</td>\n",
       "      <td>Offer1</td>\n",
       "      <td>Agent</td>\n",
       "      <td>Two-Door Car</td>\n",
       "      <td>Medsize</td>\n",
       "    </tr>\n",
       "    <tr>\n",
       "      <th>1</th>\n",
       "      <td>QZ44356</td>\n",
       "      <td>Arizona</td>\n",
       "      <td>No</td>\n",
       "      <td>Extended</td>\n",
       "      <td>Bachelor</td>\n",
       "      <td>Unemployed</td>\n",
       "      <td>F</td>\n",
       "      <td>Suburban</td>\n",
       "      <td>Single</td>\n",
       "      <td>Personal Auto</td>\n",
       "      <td>Personal L3</td>\n",
       "      <td>Offer3</td>\n",
       "      <td>Agent</td>\n",
       "      <td>Four-Door Car</td>\n",
       "      <td>Medsize</td>\n",
       "    </tr>\n",
       "    <tr>\n",
       "      <th>2</th>\n",
       "      <td>AI49188</td>\n",
       "      <td>Nevada</td>\n",
       "      <td>No</td>\n",
       "      <td>Premium</td>\n",
       "      <td>Bachelor</td>\n",
       "      <td>Employed</td>\n",
       "      <td>F</td>\n",
       "      <td>Suburban</td>\n",
       "      <td>Married</td>\n",
       "      <td>Personal Auto</td>\n",
       "      <td>Personal L3</td>\n",
       "      <td>Offer1</td>\n",
       "      <td>Agent</td>\n",
       "      <td>Two-Door Car</td>\n",
       "      <td>Medsize</td>\n",
       "    </tr>\n",
       "    <tr>\n",
       "      <th>3</th>\n",
       "      <td>WW63253</td>\n",
       "      <td>California</td>\n",
       "      <td>No</td>\n",
       "      <td>Basic</td>\n",
       "      <td>Bachelor</td>\n",
       "      <td>Unemployed</td>\n",
       "      <td>M</td>\n",
       "      <td>Suburban</td>\n",
       "      <td>Married</td>\n",
       "      <td>Corporate Auto</td>\n",
       "      <td>Corporate L2</td>\n",
       "      <td>Offer1</td>\n",
       "      <td>Call Center</td>\n",
       "      <td>SUV</td>\n",
       "      <td>Medsize</td>\n",
       "    </tr>\n",
       "    <tr>\n",
       "      <th>4</th>\n",
       "      <td>HB64268</td>\n",
       "      <td>Washington</td>\n",
       "      <td>No</td>\n",
       "      <td>Basic</td>\n",
       "      <td>Bachelor</td>\n",
       "      <td>Employed</td>\n",
       "      <td>M</td>\n",
       "      <td>Rural</td>\n",
       "      <td>Single</td>\n",
       "      <td>Personal Auto</td>\n",
       "      <td>Personal L1</td>\n",
       "      <td>Offer1</td>\n",
       "      <td>Agent</td>\n",
       "      <td>Four-Door Car</td>\n",
       "      <td>Medsize</td>\n",
       "    </tr>\n",
       "  </tbody>\n",
       "</table>\n",
       "</div>"
      ],
      "text/plain": [
       "  customer       state response  coverage education employmentstatus gender  \\\n",
       "0  BU79786  Washington       No     Basic  Bachelor         Employed      F   \n",
       "1  QZ44356     Arizona       No  Extended  Bachelor       Unemployed      F   \n",
       "2  AI49188      Nevada       No   Premium  Bachelor         Employed      F   \n",
       "3  WW63253  California       No     Basic  Bachelor       Unemployed      M   \n",
       "4  HB64268  Washington       No     Basic  Bachelor         Employed      M   \n",
       "\n",
       "  location_code marital_status     policy_type        policy renew_offer_type  \\\n",
       "0      Suburban        Married  Corporate Auto  Corporate L3           Offer1   \n",
       "1      Suburban         Single   Personal Auto   Personal L3           Offer3   \n",
       "2      Suburban        Married   Personal Auto   Personal L3           Offer1   \n",
       "3      Suburban        Married  Corporate Auto  Corporate L2           Offer1   \n",
       "4         Rural         Single   Personal Auto   Personal L1           Offer1   \n",
       "\n",
       "  sales_channel  vehicle_class vehicle_size  \n",
       "0         Agent   Two-Door Car      Medsize  \n",
       "1         Agent  Four-Door Car      Medsize  \n",
       "2         Agent   Two-Door Car      Medsize  \n",
       "3   Call Center            SUV      Medsize  \n",
       "4         Agent  Four-Door Car      Medsize  "
      ]
     },
     "execution_count": 12,
     "metadata": {},
     "output_type": "execute_result"
    }
   ],
   "source": [
    "cat = data.select_dtypes(np.object)\n",
    "cat.head()"
   ]
  },
  {
   "cell_type": "code",
   "execution_count": 13,
   "metadata": {},
   "outputs": [
    {
     "data": {
      "text/plain": [
       "(9134, 15)"
      ]
     },
     "execution_count": 13,
     "metadata": {},
     "output_type": "execute_result"
    }
   ],
   "source": [
    "cat.shape"
   ]
  },
  {
   "cell_type": "code",
   "execution_count": 14,
   "metadata": {},
   "outputs": [],
   "source": [
    "cat= cat.drop(columns = [\"customer\"])"
   ]
  },
  {
   "cell_type": "code",
   "execution_count": 15,
   "metadata": {},
   "outputs": [
    {
     "data": {
      "text/plain": [
       "(9134, 14)"
      ]
     },
     "execution_count": 15,
     "metadata": {},
     "output_type": "execute_result"
    }
   ],
   "source": [
    "cat.shape"
   ]
  },
  {
   "cell_type": "markdown",
   "metadata": {},
   "source": [
    "#### 3. Plot a correlation matrix, what can you see?\n"
   ]
  },
  {
   "cell_type": "code",
   "execution_count": 14,
   "metadata": {},
   "outputs": [
    {
     "data": {
      "text/plain": [
       "<AxesSubplot:>"
      ]
     },
     "execution_count": 14,
     "metadata": {},
     "output_type": "execute_result"
    },
    {
     "data": {
      "image/png": "[encoded data removed]",
      "text/plain": [
       "<Figure size 432x288 with 2 Axes>"
      ]
     },
     "metadata": {},
     "output_type": "display_data"
    }
   ],
   "source": [
    "# Check multicollinearity in numerical variables\n",
    "# There is not higher correlation between the features\n",
    "\n",
    "sns.heatmap(num.corr().round(2),vmin=-1, vmax=1, center=0, annot = True,square=True,\n",
    "cmap='seismic')"
   ]
  },
  {
   "cell_type": "markdown",
   "metadata": {},
   "source": [
    "### 4. Create a function to plot every discrete variables. \n",
    "Do the same with continuous variables (be careful, you may change the plot type to another one better suited for continuous data).\n",
    "### 5. What can you see in the plots?"
   ]
  },
  {
   "cell_type": "code",
   "execution_count": 15,
   "metadata": {},
   "outputs": [
    {
     "data": {
      "text/plain": [
       "Index(['state', 'response', 'coverage', 'education', 'employmentstatus',\n",
       "       'gender', 'location_code', 'marital_status', 'policy_type', 'policy',\n",
       "       'renew_offer_type', 'sales_channel', 'vehicle_class', 'vehicle_size'],\n",
       "      dtype='object')"
      ]
     },
     "execution_count": 15,
     "metadata": {},
     "output_type": "execute_result"
    }
   ],
   "source": [
    "cat.columns"
   ]
  },
  {
   "cell_type": "code",
   "execution_count": 16,
   "metadata": {},
   "outputs": [
    {
     "data": {
      "text/plain": [
       "(9134, 14)"
      ]
     },
     "execution_count": 16,
     "metadata": {},
     "output_type": "execute_result"
    }
   ],
   "source": [
    "cat.shape"
   ]
  },
  {
   "cell_type": "code",
   "execution_count": 19,
   "metadata": {},
   "outputs": [
    {
     "data": {
      "image/png": "[encoded data removed]",
      "text/plain": [
       "<Figure size 720x360 with 1 Axes>"
      ]
     },
     "metadata": {},
     "output_type": "display_data"
    },
    {
     "data": {
      "image/png": "[encoded data removed]",
      "text/plain": [
       "<Figure size 720x360 with 1 Axes>"
      ]
     },
     "metadata": {},
     "output_type": "display_data"
    },
    {
     "data": {
      "image/png": "[encoded data removed]",
      "text/plain": [
       "<Figure size 720x360 with 1 Axes>"
      ]
     },
     "metadata": {},
     "output_type": "display_data"
    },
    {
     "data": {
      "image/png": "[encoded data removed]",
      "text/plain": [
       "<Figure size 720x360 with 1 Axes>"
      ]
     },
     "metadata": {},
     "output_type": "display_data"
    },
    {
     "data": {
      "image/png": "[encoded data removed]",
      "text/plain": [
       "<Figure size 720x360 with 1 Axes>"
      ]
     },
     "metadata": {},
     "output_type": "display_data"
    },
    {
     "data": {
      "image/png": "[encoded data removed]",
      "text/plain": [
       "<Figure size 720x360 with 1 Axes>"
      ]
     },
     "metadata": {},
     "output_type": "display_data"
    },
    {
     "data": {
      "image/png": "[encoded data removed]",
      "text/plain": [
       "<Figure size 720x360 with 1 Axes>"
      ]
     },
     "metadata": {},
     "output_type": "display_data"
    },
    {
     "data": {
      "image/png": "[encoded data removed]",
      "text/plain": [
       "<Figure size 720x360 with 1 Axes>"
      ]
     },
     "metadata": {},
     "output_type": "display_data"
    },
    {
     "data": {
      "image/png": "[encoded data removed]",
      "text/plain": [
       "<Figure size 720x360 with 1 Axes>"
      ]
     },
     "metadata": {},
     "output_type": "display_data"
    },
    {
     "data": {
      "image/png": "[encoded data removed]",
      "text/plain": [
       "<Figure size 720x360 with 1 Axes>"
      ]
     },
     "metadata": {},
     "output_type": "display_data"
    },
    {
     "data": {
      "image/png": "[encoded data removed]",
      "text/plain": [
       "<Figure size 720x360 with 1 Axes>"
      ]
     },
     "metadata": {},
     "output_type": "display_data"
    },
    {
     "data": {
      "image/png": "[encoded data removed]",
      "text/plain": [
       "<Figure size 720x360 with 1 Axes>"
      ]
     },
     "metadata": {},
     "output_type": "display_data"
    },
    {
     "data": {
      "image/png": "[encoded data removed]",
      "text/plain": [
       "<Figure size 720x360 with 1 Axes>"
      ]
     },
     "metadata": {},
     "output_type": "display_data"
    },
    {
     "data": {
      "image/png": "[encoded data removed]",
      "text/plain": [
       "<Figure size 720x360 with 1 Axes>"
      ]
     },
     "metadata": {},
     "output_type": "display_data"
    }
   ],
   "source": [
    "#import matplotlib.pyplot as plt                 # visualization library\n",
    "#%matplotlib inline\n",
    "\n",
    "for c in cat:\n",
    "    plt.figure(figsize=(10,5))\n",
    "    plt.bar(data[c].unique(), data[c].value_counts())\n",
    "    plt.title(c)\n",
    "    plt.show()\n",
    "    \n",
    "    \n",
    "    \n",
    " # other simple option   \n",
    "#for i in range(cat.shape[1]):\n",
    " #   sns.histplot(cat[cat.columns[i]], bins=50)\n",
    "  #  plt.show()"
   ]
  },
  {
   "cell_type": "code",
   "execution_count": 15,
   "metadata": {},
   "outputs": [],
   "source": []
  },
  {
   "cell_type": "markdown",
   "metadata": {},
   "source": [
    "### 6. Look for outliers in the continuous variables we have found. Hint: There was a good plot to do that."
   ]
  },
  {
   "cell_type": "code",
   "execution_count": 22,
   "metadata": {},
   "outputs": [
    {
     "data": {
      "text/plain": [
       "Index(['customer_lifetime_value', 'income', 'monthly_premium_auto',\n",
       "       'months_since_last_claim', 'months_since_policy_inception',\n",
       "       'number_of_open_complaints', 'number_of_policies',\n",
       "       'total_claim_amount'],\n",
       "      dtype='object')"
      ]
     },
     "execution_count": 22,
     "metadata": {},
     "output_type": "execute_result"
    }
   ],
   "source": [
    "num.columns"
   ]
  },
  {
   "cell_type": "code",
   "execution_count": 26,
   "metadata": {},
   "outputs": [
    {
     "data": {
      "text/plain": [
       "<AxesSubplot:ylabel='total_claim_amount'>"
      ]
     },
     "execution_count": 26,
     "metadata": {},
     "output_type": "execute_result"
    },
    {
     "data": {
      "image/png": "[encoded data removed]",
      "text/plain": [
       "<Figure size 432x288 with 1 Axes>"
      ]
     },
     "metadata": {},
     "output_type": "display_data"
    }
   ],
   "source": [
    "sns.boxplot(y=\"total_claim_amount\", data=num)\n",
    "#plt.show()"
   ]
  },
  {
   "cell_type": "code",
   "execution_count": 33,
   "metadata": {},
   "outputs": [
    {
     "data": {
      "image/png": "[encoded data removed]",
      "text/plain": [
       "<Figure size 432x288 with 1 Axes>"
      ]
     },
     "metadata": {},
     "output_type": "display_data"
    },
    {
     "data": {
      "image/png": "[encoded data removed]",
      "text/plain": [
       "<Figure size 432x288 with 1 Axes>"
      ]
     },
     "metadata": {},
     "output_type": "display_data"
    },
    {
     "data": {
      "image/png": "[encoded data removed]",
      "text/plain": [
       "<Figure size 432x288 with 1 Axes>"
      ]
     },
     "metadata": {},
     "output_type": "display_data"
    },
    {
     "data": {
      "image/png": "[encoded data removed]",
      "text/plain": [
       "<Figure size 432x288 with 1 Axes>"
      ]
     },
     "metadata": {},
     "output_type": "display_data"
    },
    {
     "data": {
      "image/png": "[encoded data removed]",
      "text/plain": [
       "<Figure size 432x288 with 1 Axes>"
      ]
     },
     "metadata": {},
     "output_type": "display_data"
    },
    {
     "data": {
      "image/png": "[encoded data removed]",
      "text/plain": [
       "<Figure size 432x288 with 1 Axes>"
      ]
     },
     "metadata": {},
     "output_type": "display_data"
    },
    {
     "data": {
      "image/png": "[encoded data removed]",
      "text/plain": [
       "<Figure size 432x288 with 1 Axes>"
      ]
     },
     "metadata": {},
     "output_type": "display_data"
    },
    {
     "data": {
      "image/png": "[encoded data removed]",
      "text/plain": [
       "<Figure size 432x288 with 1 Axes>"
      ]
     },
     "metadata": {},
     "output_type": "display_data"
    }
   ],
   "source": [
    "# sns.boxplot(y=numericals['income'], data=numericals)\n",
    "\n",
    "for i in range(num.shape[1]):\n",
    "    sns.boxplot(num[num.columns[i]])\n",
    "    plt.show()"
   ]
  },
  {
   "cell_type": "code",
   "execution_count": null,
   "metadata": {},
   "outputs": [],
   "source": []
  },
  {
   "cell_type": "markdown",
   "metadata": {},
   "source": [
    "### 7. Have you found outliers? If you have, what should we do with them?\n",
    "\n",
    "* customer_lifetime_value\n",
    "* total_claim_amount\n",
    "    * Log_Transformation \n",
    "    * boxcox trasformation"
   ]
  },
  {
   "cell_type": "code",
   "execution_count": null,
   "metadata": {},
   "outputs": [],
   "source": []
  },
  {
   "cell_type": "markdown",
   "metadata": {},
   "source": [
    "### 8. Check nan values per column.\n",
    "* There are not nan vaules."
   ]
  },
  {
   "cell_type": "code",
   "execution_count": 29,
   "metadata": {},
   "outputs": [
    {
     "data": {
      "text/html": [
       "<div>\n",
       "<style scoped>\n",
       "    .dataframe tbody tr th:only-of-type {\n",
       "        vertical-align: middle;\n",
       "    }\n",
       "\n",
       "    .dataframe tbody tr th {\n",
       "        vertical-align: top;\n",
       "    }\n",
       "\n",
       "    .dataframe thead th {\n",
       "        text-align: right;\n",
       "    }\n",
       "</style>\n",
       "<table border=\"1\" class=\"dataframe\">\n",
       "  <thead>\n",
       "    <tr style=\"text-align: right;\">\n",
       "      <th></th>\n",
       "      <th>0</th>\n",
       "    </tr>\n",
       "  </thead>\n",
       "  <tbody>\n",
       "    <tr>\n",
       "      <th>customer_lifetime_value</th>\n",
       "      <td>0.0</td>\n",
       "    </tr>\n",
       "    <tr>\n",
       "      <th>income</th>\n",
       "      <td>0.0</td>\n",
       "    </tr>\n",
       "    <tr>\n",
       "      <th>monthly_premium_auto</th>\n",
       "      <td>0.0</td>\n",
       "    </tr>\n",
       "    <tr>\n",
       "      <th>months_since_last_claim</th>\n",
       "      <td>0.0</td>\n",
       "    </tr>\n",
       "    <tr>\n",
       "      <th>months_since_policy_inception</th>\n",
       "      <td>0.0</td>\n",
       "    </tr>\n",
       "    <tr>\n",
       "      <th>number_of_open_complaints</th>\n",
       "      <td>0.0</td>\n",
       "    </tr>\n",
       "    <tr>\n",
       "      <th>number_of_policies</th>\n",
       "      <td>0.0</td>\n",
       "    </tr>\n",
       "    <tr>\n",
       "      <th>total_claim_amount</th>\n",
       "      <td>0.0</td>\n",
       "    </tr>\n",
       "  </tbody>\n",
       "</table>\n",
       "</div>"
      ],
      "text/plain": [
       "                                 0\n",
       "customer_lifetime_value        0.0\n",
       "income                         0.0\n",
       "monthly_premium_auto           0.0\n",
       "months_since_last_claim        0.0\n",
       "months_since_policy_inception  0.0\n",
       "number_of_open_complaints      0.0\n",
       "number_of_policies             0.0\n",
       "total_claim_amount             0.0"
      ]
     },
     "execution_count": 29,
     "metadata": {},
     "output_type": "execute_result"
    }
   ],
   "source": [
    "#data.isna().sum()     # missing values\n",
    "# data.isna().sum()/data.shape[0]*100\n",
    "pd.DataFrame(round(num.isna().sum()/len(num),4)*100)"
   ]
  },
  {
   "cell_type": "code",
   "execution_count": 30,
   "metadata": {},
   "outputs": [
    {
     "data": {
      "text/html": [
       "<div>\n",
       "<style scoped>\n",
       "    .dataframe tbody tr th:only-of-type {\n",
       "        vertical-align: middle;\n",
       "    }\n",
       "\n",
       "    .dataframe tbody tr th {\n",
       "        vertical-align: top;\n",
       "    }\n",
       "\n",
       "    .dataframe thead th {\n",
       "        text-align: right;\n",
       "    }\n",
       "</style>\n",
       "<table border=\"1\" class=\"dataframe\">\n",
       "  <thead>\n",
       "    <tr style=\"text-align: right;\">\n",
       "      <th></th>\n",
       "      <th>0</th>\n",
       "    </tr>\n",
       "  </thead>\n",
       "  <tbody>\n",
       "    <tr>\n",
       "      <th>state</th>\n",
       "      <td>0.0</td>\n",
       "    </tr>\n",
       "    <tr>\n",
       "      <th>response</th>\n",
       "      <td>0.0</td>\n",
       "    </tr>\n",
       "    <tr>\n",
       "      <th>coverage</th>\n",
       "      <td>0.0</td>\n",
       "    </tr>\n",
       "    <tr>\n",
       "      <th>education</th>\n",
       "      <td>0.0</td>\n",
       "    </tr>\n",
       "    <tr>\n",
       "      <th>employmentstatus</th>\n",
       "      <td>0.0</td>\n",
       "    </tr>\n",
       "    <tr>\n",
       "      <th>gender</th>\n",
       "      <td>0.0</td>\n",
       "    </tr>\n",
       "    <tr>\n",
       "      <th>location_code</th>\n",
       "      <td>0.0</td>\n",
       "    </tr>\n",
       "    <tr>\n",
       "      <th>marital_status</th>\n",
       "      <td>0.0</td>\n",
       "    </tr>\n",
       "    <tr>\n",
       "      <th>policy_type</th>\n",
       "      <td>0.0</td>\n",
       "    </tr>\n",
       "    <tr>\n",
       "      <th>policy</th>\n",
       "      <td>0.0</td>\n",
       "    </tr>\n",
       "    <tr>\n",
       "      <th>renew_offer_type</th>\n",
       "      <td>0.0</td>\n",
       "    </tr>\n",
       "    <tr>\n",
       "      <th>sales_channel</th>\n",
       "      <td>0.0</td>\n",
       "    </tr>\n",
       "    <tr>\n",
       "      <th>vehicle_class</th>\n",
       "      <td>0.0</td>\n",
       "    </tr>\n",
       "    <tr>\n",
       "      <th>vehicle_size</th>\n",
       "      <td>0.0</td>\n",
       "    </tr>\n",
       "  </tbody>\n",
       "</table>\n",
       "</div>"
      ],
      "text/plain": [
       "                    0\n",
       "state             0.0\n",
       "response          0.0\n",
       "coverage          0.0\n",
       "education         0.0\n",
       "employmentstatus  0.0\n",
       "gender            0.0\n",
       "location_code     0.0\n",
       "marital_status    0.0\n",
       "policy_type       0.0\n",
       "policy            0.0\n",
       "renew_offer_type  0.0\n",
       "sales_channel     0.0\n",
       "vehicle_class     0.0\n",
       "vehicle_size      0.0"
      ]
     },
     "execution_count": 30,
     "metadata": {},
     "output_type": "execute_result"
    }
   ],
   "source": [
    "\n",
    "pd.DataFrame(round(cat.isna().sum()/len(cat),4)*100)"
   ]
  },
  {
   "cell_type": "code",
   "execution_count": null,
   "metadata": {},
   "outputs": [],
   "source": []
  },
  {
   "cell_type": "code",
   "execution_count": null,
   "metadata": {},
   "outputs": [],
   "source": []
  },
  {
   "cell_type": "markdown",
   "metadata": {},
   "source": [
    "### 9. Define a function that differentiate between continuous and discrete variables. Hint: Number of unique values might be useful. Store continuous data into a continuous variable and do the same for discrete and categorical."
   ]
  },
  {
   "cell_type": "code",
   "execution_count": 31,
   "metadata": {},
   "outputs": [],
   "source": [
    "def cont_disc(arg):\n",
    "    uniquevalues = len(arg.unique())\n",
    "    if uniquevalues > 100:\n",
    "        x = ['continuous',arg.name]\n",
    "        return x\n",
    "    else:\n",
    "        x = ['discrete',arg.name]\n",
    "        return x"
   ]
  },
  {
   "cell_type": "code",
   "execution_count": 32,
   "metadata": {},
   "outputs": [
    {
     "name": "stdout",
     "output_type": "stream",
     "text": [
      "['continuous', 'customer_lifetime_value']\n",
      "['continuous', 'income']\n",
      "['continuous', 'monthly_premium_auto']\n",
      "['discrete', 'months_since_last_claim']\n",
      "['discrete', 'months_since_policy_inception']\n",
      "['discrete', 'number_of_open_complaints']\n",
      "['discrete', 'number_of_policies']\n",
      "['continuous', 'total_claim_amount']\n"
     ]
    }
   ],
   "source": [
    "# How to improve this function!!\n",
    "\n",
    "lst = []\n",
    "for i in range(num.shape[1]):\n",
    "    print(cont_disc(num[num.columns[i]]))"
   ]
  },
  {
   "cell_type": "code",
   "execution_count": 16,
   "metadata": {},
   "outputs": [],
   "source": [
    "num_new = num[[\"customer_lifetime_value\", \"income\", \"monthly_premium_auto\", \"total_claim_amount\"]]\n"
   ]
  },
  {
   "cell_type": "code",
   "execution_count": 17,
   "metadata": {},
   "outputs": [
    {
     "data": {
      "text/html": [
       "<div>\n",
       "<style scoped>\n",
       "    .dataframe tbody tr th:only-of-type {\n",
       "        vertical-align: middle;\n",
       "    }\n",
       "\n",
       "    .dataframe tbody tr th {\n",
       "        vertical-align: top;\n",
       "    }\n",
       "\n",
       "    .dataframe thead th {\n",
       "        text-align: right;\n",
       "    }\n",
       "</style>\n",
       "<table border=\"1\" class=\"dataframe\">\n",
       "  <thead>\n",
       "    <tr style=\"text-align: right;\">\n",
       "      <th></th>\n",
       "      <th>customer_lifetime_value</th>\n",
       "      <th>income</th>\n",
       "      <th>monthly_premium_auto</th>\n",
       "      <th>total_claim_amount</th>\n",
       "    </tr>\n",
       "  </thead>\n",
       "  <tbody>\n",
       "    <tr>\n",
       "      <th>0</th>\n",
       "      <td>2763.519279</td>\n",
       "      <td>56274</td>\n",
       "      <td>69</td>\n",
       "      <td>384.811147</td>\n",
       "    </tr>\n",
       "    <tr>\n",
       "      <th>1</th>\n",
       "      <td>6979.535903</td>\n",
       "      <td>0</td>\n",
       "      <td>94</td>\n",
       "      <td>1131.464935</td>\n",
       "    </tr>\n",
       "  </tbody>\n",
       "</table>\n",
       "</div>"
      ],
      "text/plain": [
       "   customer_lifetime_value  income  monthly_premium_auto  total_claim_amount\n",
       "0              2763.519279   56274                    69          384.811147\n",
       "1              6979.535903       0                    94         1131.464935"
      ]
     },
     "execution_count": 17,
     "metadata": {},
     "output_type": "execute_result"
    }
   ],
   "source": [
    "num_new.head(2)"
   ]
  },
  {
   "cell_type": "code",
   "execution_count": 18,
   "metadata": {},
   "outputs": [],
   "source": [
    "num_df = pd.concat([num, num_new], axis = 1)\n",
    "# pd.concat([one,two],axis=1)"
   ]
  },
  {
   "cell_type": "code",
   "execution_count": 19,
   "metadata": {},
   "outputs": [
    {
     "data": {
      "text/html": [
       "<div>\n",
       "<style scoped>\n",
       "    .dataframe tbody tr th:only-of-type {\n",
       "        vertical-align: middle;\n",
       "    }\n",
       "\n",
       "    .dataframe tbody tr th {\n",
       "        vertical-align: top;\n",
       "    }\n",
       "\n",
       "    .dataframe thead th {\n",
       "        text-align: right;\n",
       "    }\n",
       "</style>\n",
       "<table border=\"1\" class=\"dataframe\">\n",
       "  <thead>\n",
       "    <tr style=\"text-align: right;\">\n",
       "      <th></th>\n",
       "      <th>customer_lifetime_value</th>\n",
       "      <th>income</th>\n",
       "      <th>monthly_premium_auto</th>\n",
       "      <th>months_since_last_claim</th>\n",
       "      <th>months_since_policy_inception</th>\n",
       "      <th>number_of_open_complaints</th>\n",
       "      <th>number_of_policies</th>\n",
       "      <th>total_claim_amount</th>\n",
       "      <th>customer_lifetime_value</th>\n",
       "      <th>income</th>\n",
       "      <th>monthly_premium_auto</th>\n",
       "      <th>total_claim_amount</th>\n",
       "    </tr>\n",
       "  </thead>\n",
       "  <tbody>\n",
       "    <tr>\n",
       "      <th>0</th>\n",
       "      <td>2763.519279</td>\n",
       "      <td>56274</td>\n",
       "      <td>69</td>\n",
       "      <td>32</td>\n",
       "      <td>5</td>\n",
       "      <td>0</td>\n",
       "      <td>1</td>\n",
       "      <td>384.811147</td>\n",
       "      <td>2763.519279</td>\n",
       "      <td>56274</td>\n",
       "      <td>69</td>\n",
       "      <td>384.811147</td>\n",
       "    </tr>\n",
       "    <tr>\n",
       "      <th>1</th>\n",
       "      <td>6979.535903</td>\n",
       "      <td>0</td>\n",
       "      <td>94</td>\n",
       "      <td>13</td>\n",
       "      <td>42</td>\n",
       "      <td>0</td>\n",
       "      <td>8</td>\n",
       "      <td>1131.464935</td>\n",
       "      <td>6979.535903</td>\n",
       "      <td>0</td>\n",
       "      <td>94</td>\n",
       "      <td>1131.464935</td>\n",
       "    </tr>\n",
       "  </tbody>\n",
       "</table>\n",
       "</div>"
      ],
      "text/plain": [
       "   customer_lifetime_value  income  monthly_premium_auto  \\\n",
       "0              2763.519279   56274                    69   \n",
       "1              6979.535903       0                    94   \n",
       "\n",
       "   months_since_last_claim  months_since_policy_inception  \\\n",
       "0                       32                              5   \n",
       "1                       13                             42   \n",
       "\n",
       "   number_of_open_complaints  number_of_policies  total_claim_amount  \\\n",
       "0                          0                   1          384.811147   \n",
       "1                          0                   8         1131.464935   \n",
       "\n",
       "   customer_lifetime_value  income  monthly_premium_auto  total_claim_amount  \n",
       "0              2763.519279   56274                    69          384.811147  \n",
       "1              6979.535903       0                    94         1131.464935  "
      ]
     },
     "execution_count": 19,
     "metadata": {},
     "output_type": "execute_result"
    }
   ],
   "source": [
    "num_df.head(2)"
   ]
  },
  {
   "cell_type": "code",
   "execution_count": 20,
   "metadata": {},
   "outputs": [],
   "source": [
    "cat_to_add = num [[\"months_since_last_claim\", \"months_since_policy_inception\", \"number_of_open_complaints\", \"number_of_policies\"]] "
   ]
  },
  {
   "cell_type": "code",
   "execution_count": 21,
   "metadata": {},
   "outputs": [
    {
     "data": {
      "text/html": [
       "<div>\n",
       "<style scoped>\n",
       "    .dataframe tbody tr th:only-of-type {\n",
       "        vertical-align: middle;\n",
       "    }\n",
       "\n",
       "    .dataframe tbody tr th {\n",
       "        vertical-align: top;\n",
       "    }\n",
       "\n",
       "    .dataframe thead th {\n",
       "        text-align: right;\n",
       "    }\n",
       "</style>\n",
       "<table border=\"1\" class=\"dataframe\">\n",
       "  <thead>\n",
       "    <tr style=\"text-align: right;\">\n",
       "      <th></th>\n",
       "      <th>months_since_last_claim</th>\n",
       "      <th>months_since_policy_inception</th>\n",
       "      <th>number_of_open_complaints</th>\n",
       "      <th>number_of_policies</th>\n",
       "    </tr>\n",
       "  </thead>\n",
       "  <tbody>\n",
       "    <tr>\n",
       "      <th>0</th>\n",
       "      <td>32</td>\n",
       "      <td>5</td>\n",
       "      <td>0</td>\n",
       "      <td>1</td>\n",
       "    </tr>\n",
       "    <tr>\n",
       "      <th>1</th>\n",
       "      <td>13</td>\n",
       "      <td>42</td>\n",
       "      <td>0</td>\n",
       "      <td>8</td>\n",
       "    </tr>\n",
       "  </tbody>\n",
       "</table>\n",
       "</div>"
      ],
      "text/plain": [
       "   months_since_last_claim  months_since_policy_inception  \\\n",
       "0                       32                              5   \n",
       "1                       13                             42   \n",
       "\n",
       "   number_of_open_complaints  number_of_policies  \n",
       "0                          0                   1  \n",
       "1                          0                   8  "
      ]
     },
     "execution_count": 21,
     "metadata": {},
     "output_type": "execute_result"
    }
   ],
   "source": [
    "cat_to_add.head(2)"
   ]
  },
  {
   "cell_type": "code",
   "execution_count": 22,
   "metadata": {},
   "outputs": [],
   "source": [
    "cat_df = pd.concat([cat, cat_to_add], axis = 1)"
   ]
  },
  {
   "cell_type": "code",
   "execution_count": 23,
   "metadata": {},
   "outputs": [
    {
     "data": {
      "text/html": [
       "<div>\n",
       "<style scoped>\n",
       "    .dataframe tbody tr th:only-of-type {\n",
       "        vertical-align: middle;\n",
       "    }\n",
       "\n",
       "    .dataframe tbody tr th {\n",
       "        vertical-align: top;\n",
       "    }\n",
       "\n",
       "    .dataframe thead th {\n",
       "        text-align: right;\n",
       "    }\n",
       "</style>\n",
       "<table border=\"1\" class=\"dataframe\">\n",
       "  <thead>\n",
       "    <tr style=\"text-align: right;\">\n",
       "      <th></th>\n",
       "      <th>state</th>\n",
       "      <th>response</th>\n",
       "      <th>coverage</th>\n",
       "      <th>education</th>\n",
       "      <th>employmentstatus</th>\n",
       "      <th>gender</th>\n",
       "      <th>location_code</th>\n",
       "      <th>marital_status</th>\n",
       "      <th>policy_type</th>\n",
       "      <th>policy</th>\n",
       "      <th>renew_offer_type</th>\n",
       "      <th>sales_channel</th>\n",
       "      <th>vehicle_class</th>\n",
       "      <th>vehicle_size</th>\n",
       "      <th>months_since_last_claim</th>\n",
       "      <th>months_since_policy_inception</th>\n",
       "      <th>number_of_open_complaints</th>\n",
       "      <th>number_of_policies</th>\n",
       "    </tr>\n",
       "  </thead>\n",
       "  <tbody>\n",
       "    <tr>\n",
       "      <th>0</th>\n",
       "      <td>Washington</td>\n",
       "      <td>No</td>\n",
       "      <td>Basic</td>\n",
       "      <td>Bachelor</td>\n",
       "      <td>Employed</td>\n",
       "      <td>F</td>\n",
       "      <td>Suburban</td>\n",
       "      <td>Married</td>\n",
       "      <td>Corporate Auto</td>\n",
       "      <td>Corporate L3</td>\n",
       "      <td>Offer1</td>\n",
       "      <td>Agent</td>\n",
       "      <td>Two-Door Car</td>\n",
       "      <td>Medsize</td>\n",
       "      <td>32</td>\n",
       "      <td>5</td>\n",
       "      <td>0</td>\n",
       "      <td>1</td>\n",
       "    </tr>\n",
       "    <tr>\n",
       "      <th>1</th>\n",
       "      <td>Arizona</td>\n",
       "      <td>No</td>\n",
       "      <td>Extended</td>\n",
       "      <td>Bachelor</td>\n",
       "      <td>Unemployed</td>\n",
       "      <td>F</td>\n",
       "      <td>Suburban</td>\n",
       "      <td>Single</td>\n",
       "      <td>Personal Auto</td>\n",
       "      <td>Personal L3</td>\n",
       "      <td>Offer3</td>\n",
       "      <td>Agent</td>\n",
       "      <td>Four-Door Car</td>\n",
       "      <td>Medsize</td>\n",
       "      <td>13</td>\n",
       "      <td>42</td>\n",
       "      <td>0</td>\n",
       "      <td>8</td>\n",
       "    </tr>\n",
       "  </tbody>\n",
       "</table>\n",
       "</div>"
      ],
      "text/plain": [
       "        state response  coverage education employmentstatus gender  \\\n",
       "0  Washington       No     Basic  Bachelor         Employed      F   \n",
       "1     Arizona       No  Extended  Bachelor       Unemployed      F   \n",
       "\n",
       "  location_code marital_status     policy_type        policy renew_offer_type  \\\n",
       "0      Suburban        Married  Corporate Auto  Corporate L3           Offer1   \n",
       "1      Suburban         Single   Personal Auto   Personal L3           Offer3   \n",
       "\n",
       "  sales_channel  vehicle_class vehicle_size  months_since_last_claim  \\\n",
       "0         Agent   Two-Door Car      Medsize                       32   \n",
       "1         Agent  Four-Door Car      Medsize                       13   \n",
       "\n",
       "   months_since_policy_inception  number_of_open_complaints  \\\n",
       "0                              5                          0   \n",
       "1                             42                          0   \n",
       "\n",
       "   number_of_policies  \n",
       "0                   1  \n",
       "1                   8  "
      ]
     },
     "execution_count": 23,
     "metadata": {},
     "output_type": "execute_result"
    }
   ],
   "source": [
    "cat_df.head(2)"
   ]
  },
  {
   "cell_type": "code",
   "execution_count": null,
   "metadata": {},
   "outputs": [],
   "source": []
  },
  {
   "cell_type": "markdown",
   "metadata": {},
   "source": [
    "### 10. for the categorical data, check if there is some kind of text in a variable so we would need to clean it. Hint: Use the same method you used in step 7. Depending on the implementation, decide what to do with the variables you get.\n",
    "* nope, the features are cleaned."
   ]
  },
  {
   "cell_type": "code",
   "execution_count": 24,
   "metadata": {},
   "outputs": [
    {
     "name": "stdout",
     "output_type": "stream",
     "text": [
      "Categorical Features: 9134\n",
      "----------\n",
      "Name: state\n",
      "Type: object\n",
      "Unique values: 5\n",
      "['Washington' 'Arizona' 'Nevada' 'California' 'Oregon']\n",
      "California    34.486534\n",
      "Oregon        28.476024\n",
      "Arizona       18.644624\n",
      "Nevada         9.656229\n",
      "Washington     8.736589\n",
      "Name: state, dtype: float64\n",
      "\n",
      "----------\n",
      "Name: response\n",
      "Type: object\n",
      "Unique values: 2\n",
      "['No' 'Yes']\n",
      "No     85.679877\n",
      "Yes    14.320123\n",
      "Name: response, dtype: float64\n",
      "\n",
      "----------\n",
      "Name: coverage\n",
      "Type: object\n",
      "Unique values: 3\n",
      "['Basic' 'Extended' 'Premium']\n",
      "Basic       60.959054\n",
      "Extended    30.019707\n",
      "Premium      9.021239\n",
      "Name: coverage, dtype: float64\n",
      "\n",
      "----------\n",
      "Name: education\n",
      "Type: object\n",
      "Unique values: 5\n",
      "['Bachelor' 'College' 'Master' 'High School or Below' 'Doctor']\n",
      "Bachelor                30.085395\n",
      "College                 29.351872\n",
      "High School or Below    28.705934\n",
      "Master                   8.112547\n",
      "Doctor                   3.744252\n",
      "Name: education, dtype: float64\n",
      "\n",
      "----------\n",
      "Name: employmentstatus\n",
      "Type: object\n",
      "Unique values: 5\n",
      "['Employed' 'Unemployed' 'Medical Leave' 'Disabled' 'Retired']\n",
      "Employed         62.382308\n",
      "Unemployed       25.366762\n",
      "Medical Leave     4.729582\n",
      "Disabled          4.433983\n",
      "Retired           3.087366\n",
      "Name: employmentstatus, dtype: float64\n",
      "\n",
      "----------\n",
      "Name: gender\n",
      "Type: object\n",
      "Unique values: 2\n",
      "['F' 'M']\n",
      "F    50.996278\n",
      "M    49.003722\n",
      "Name: gender, dtype: float64\n",
      "\n",
      "----------\n",
      "Name: location_code\n",
      "Type: object\n",
      "Unique values: 3\n",
      "['Suburban' 'Rural' 'Urban']\n",
      "Suburban    63.269104\n",
      "Rural       19.410992\n",
      "Urban       17.319904\n",
      "Name: location_code, dtype: float64\n",
      "\n",
      "----------\n",
      "Name: marital_status\n",
      "Type: object\n",
      "Unique values: 3\n",
      "['Married' 'Single' 'Divorced']\n",
      "Married     58.003065\n",
      "Single      27.008977\n",
      "Divorced    14.987957\n",
      "Name: marital_status, dtype: float64\n",
      "\n",
      "----------\n",
      "Name: policy_type\n",
      "Type: object\n",
      "Unique values: 3\n",
      "['Corporate Auto' 'Personal Auto' 'Special Auto']\n",
      "Personal Auto     74.315743\n",
      "Corporate Auto    21.545873\n",
      "Special Auto       4.138384\n",
      "Name: policy_type, dtype: float64\n",
      "\n",
      "----------\n",
      "Name: policy\n",
      "Type: object\n",
      "Unique values: 9\n",
      "['Corporate L3' 'Personal L3' 'Corporate L2' 'Personal L1' 'Special L2'\n",
      " 'Corporate L1' 'Personal L2' 'Special L1' 'Special L3']\n",
      "Personal L3     37.508211\n",
      "Personal L2     23.231881\n",
      "Personal L1     13.575651\n",
      "Corporate L3    11.101379\n",
      "Corporate L2     6.514123\n",
      "Corporate L1     3.930370\n",
      "Special L2       1.795489\n",
      "Special L3       1.620320\n",
      "Special L1       0.722575\n",
      "Name: policy, dtype: float64\n",
      "\n",
      "----------\n",
      "Name: renew_offer_type\n",
      "Type: object\n",
      "Unique values: 4\n",
      "['Offer1' 'Offer3' 'Offer2' 'Offer4']\n",
      "Offer1    41.077294\n",
      "Offer2    32.034158\n",
      "Offer3    15.677688\n",
      "Offer4    11.210861\n",
      "Name: renew_offer_type, dtype: float64\n",
      "\n",
      "----------\n",
      "Name: sales_channel\n",
      "Type: object\n",
      "Unique values: 4\n",
      "['Agent' 'Call Center' 'Web' 'Branch']\n",
      "Agent          38.066564\n",
      "Branch         28.103788\n",
      "Call Center    19.323407\n",
      "Web            14.506240\n",
      "Name: sales_channel, dtype: float64\n",
      "\n",
      "----------\n",
      "Name: vehicle_class\n",
      "Type: object\n",
      "Unique values: 6\n",
      "['Two-Door Car' 'Four-Door Car' 'SUV' 'Luxury SUV' 'Sports Car'\n",
      " 'Luxury Car']\n",
      "Four-Door Car    50.591198\n",
      "Two-Door Car     20.648128\n",
      "SUV              19.662798\n",
      "Sports Car        5.298883\n",
      "Luxury SUV        2.014451\n",
      "Luxury Car        1.784541\n",
      "Name: vehicle_class, dtype: float64\n",
      "\n",
      "----------\n",
      "Name: vehicle_size\n",
      "Type: object\n",
      "Unique values: 3\n",
      "['Medsize' 'Small' 'Large']\n",
      "Medsize    70.330633\n",
      "Small      19.312459\n",
      "Large      10.356908\n",
      "Name: vehicle_size, dtype: float64\n",
      "\n",
      "----------\n",
      "Name: months_since_last_claim\n",
      "Type: int64\n",
      "Unique values: 36\n",
      "[32 13 18 12 14  0 17 23 27  9 21 11 31  8  4 30 22 15 33  1 19 28 10  7\n",
      "  3  5 20 24 29 34  6 35  2 16 26 25]\n",
      "3     4.171228\n",
      "6     3.985111\n",
      "1     3.777097\n",
      "4     3.667616\n",
      "7     3.645719\n",
      "2     3.601927\n",
      "0     3.437705\n",
      "5     3.426757\n",
      "10    3.350120\n",
      "11    3.251587\n",
      "16    3.229691\n",
      "15    3.131158\n",
      "13    3.120210\n",
      "8     3.054522\n",
      "12    2.988833\n",
      "14    2.934092\n",
      "17    2.879352\n",
      "9     2.737026\n",
      "19    2.693234\n",
      "23    2.616597\n",
      "25    2.583753\n",
      "21    2.550909\n",
      "20    2.529012\n",
      "18    2.507116\n",
      "22    2.386687\n",
      "24    2.310050\n",
      "29    2.255310\n",
      "28    2.200569\n",
      "31    2.080140\n",
      "26    2.036348\n",
      "30    1.992555\n",
      "27    1.992555\n",
      "33    1.959711\n",
      "34    1.850230\n",
      "35    1.554631\n",
      "32    1.510839\n",
      "Name: months_since_last_claim, dtype: float64\n",
      "\n",
      "----------\n",
      "Name: months_since_policy_inception\n",
      "Type: int64\n",
      "Unique values: 100\n",
      "[ 5 42 38 65 44 94 13 68  3  7 87 82 25 10 50 59  1 21 49 91 47 64 54  6\n",
      " 14 56 17 40 62 86 79 15 32 28 16  4 57 77 95 26 53 12 98 36 71 60 20  0\n",
      " 27 48 33 83 30 69 90 81 84 88 18 11 85 93 34 89  2 70 37 43  8 35 99 55\n",
      " 75 51 92 29 63 61 46 41 31 45 67 22 23  9 72 96 58 66 73 39 19 97 52 76\n",
      " 78 80 74 24]\n",
      "59    1.554631\n",
      "61    1.401358\n",
      "50    1.368513\n",
      "44    1.259032\n",
      "10    1.248084\n",
      "3     1.248084\n",
      "56    1.226188\n",
      "38    1.204292\n",
      "34    1.193344\n",
      "43    1.193344\n",
      "35    1.193344\n",
      "15    1.193344\n",
      "63    1.171447\n",
      "52    1.160499\n",
      "31    1.160499\n",
      "19    1.160499\n",
      "21    1.149551\n",
      "62    1.138603\n",
      "11    1.138603\n",
      "37    1.127655\n",
      "20    1.127655\n",
      "28    1.127655\n",
      "70    1.116707\n",
      "72    1.105759\n",
      "79    1.105759\n",
      "17    1.105759\n",
      "12    1.094811\n",
      "71    1.094811\n",
      "84    1.094811\n",
      "30    1.083862\n",
      "75    1.072914\n",
      "29    1.072914\n",
      "89    1.061966\n",
      "45    1.061966\n",
      "47    1.061966\n",
      "27    1.061966\n",
      "9     1.051018\n",
      "64    1.051018\n",
      "32    1.051018\n",
      "77    1.040070\n",
      "42    1.029122\n",
      "51    1.029122\n",
      "22    1.018174\n",
      "46    1.018174\n",
      "54    1.018174\n",
      "48    1.018174\n",
      "66    1.007226\n",
      "74    0.996278\n",
      "4     0.996278\n",
      "68    0.985330\n",
      "93    0.985330\n",
      "18    0.985330\n",
      "36    0.985330\n",
      "2     0.974381\n",
      "25    0.974381\n",
      "40    0.974381\n",
      "73    0.963433\n",
      "55    0.963433\n",
      "23    0.963433\n",
      "69    0.952485\n",
      "86    0.952485\n",
      "5     0.952485\n",
      "57    0.952485\n",
      "41    0.952485\n",
      "76    0.941537\n",
      "49    0.941537\n",
      "39    0.930589\n",
      "1     0.930589\n",
      "65    0.930589\n",
      "85    0.930589\n",
      "90    0.919641\n",
      "14    0.908693\n",
      "0     0.908693\n",
      "24    0.897745\n",
      "78    0.897745\n",
      "13    0.886797\n",
      "8     0.886797\n",
      "67    0.886797\n",
      "26    0.875848\n",
      "7     0.864900\n",
      "60    0.853952\n",
      "99    0.853952\n",
      "95    0.843004\n",
      "33    0.843004\n",
      "53    0.843004\n",
      "87    0.832056\n",
      "88    0.832056\n",
      "58    0.832056\n",
      "81    0.832056\n",
      "91    0.821108\n",
      "83    0.821108\n",
      "92    0.810160\n",
      "80    0.799212\n",
      "6     0.799212\n",
      "94    0.788264\n",
      "16    0.766367\n",
      "96    0.733523\n",
      "82    0.613094\n",
      "98    0.591198\n",
      "97    0.569302\n",
      "Name: months_since_policy_inception, dtype: float64\n",
      "\n",
      "----------\n",
      "Name: number_of_open_complaints\n",
      "Type: int64\n",
      "Unique values: 6\n",
      "[0 2 1 3 5 4]\n",
      "0    79.395665\n",
      "1    11.068535\n",
      "2     4.094592\n",
      "3     3.196847\n",
      "4     1.631268\n",
      "5     0.613094\n",
      "Name: number_of_open_complaints, dtype: float64\n",
      "\n",
      "----------\n",
      "Name: number_of_policies\n",
      "Type: int64\n",
      "Unique values: 9\n",
      "[1 8 2 7 9 4 3 6 5]\n",
      "1    35.592293\n",
      "2    25.114955\n",
      "3    12.787388\n",
      "7     4.740530\n",
      "9     4.554412\n",
      "4     4.477775\n",
      "5     4.455879\n",
      "8     4.204073\n",
      "6     4.072695\n",
      "Name: number_of_policies, dtype: float64\n",
      "\n",
      "----------\n"
     ]
    }
   ],
   "source": [
    "# check for unique values -- code from Himanshu\n",
    "\n",
    "print('Categorical Features:', len(cat_df))\n",
    "print('----------')\n",
    "for c in cat_df:\n",
    "    print('Name: {}'.format(data[c].name))    # column name\n",
    "    print('Type: {}'.format(data[c].dtype))   # column type\n",
    "    print('Unique values: {}'.format(len(data[c].unique())))   # column unique values\n",
    "    print(data[c].unique())\n",
    "    print(((data[c].value_counts()/ sum(data[c].value_counts()))*100))   # percentage\n",
    "    print('\\n----------')"
   ]
  },
  {
   "cell_type": "markdown",
   "metadata": {},
   "source": [
    "### 11. Get categorical features."
   ]
  },
  {
   "cell_type": "code",
   "execution_count": 25,
   "metadata": {},
   "outputs": [
    {
     "data": {
      "text/html": [
       "<div>\n",
       "<style scoped>\n",
       "    .dataframe tbody tr th:only-of-type {\n",
       "        vertical-align: middle;\n",
       "    }\n",
       "\n",
       "    .dataframe tbody tr th {\n",
       "        vertical-align: top;\n",
       "    }\n",
       "\n",
       "    .dataframe thead th {\n",
       "        text-align: right;\n",
       "    }\n",
       "</style>\n",
       "<table border=\"1\" class=\"dataframe\">\n",
       "  <thead>\n",
       "    <tr style=\"text-align: right;\">\n",
       "      <th></th>\n",
       "      <th>state</th>\n",
       "      <th>response</th>\n",
       "      <th>coverage</th>\n",
       "      <th>education</th>\n",
       "      <th>employmentstatus</th>\n",
       "      <th>gender</th>\n",
       "      <th>location_code</th>\n",
       "      <th>marital_status</th>\n",
       "      <th>policy_type</th>\n",
       "      <th>policy</th>\n",
       "      <th>renew_offer_type</th>\n",
       "      <th>sales_channel</th>\n",
       "      <th>vehicle_class</th>\n",
       "      <th>vehicle_size</th>\n",
       "      <th>months_since_last_claim</th>\n",
       "      <th>months_since_policy_inception</th>\n",
       "      <th>number_of_open_complaints</th>\n",
       "      <th>number_of_policies</th>\n",
       "    </tr>\n",
       "  </thead>\n",
       "  <tbody>\n",
       "    <tr>\n",
       "      <th>0</th>\n",
       "      <td>Washington</td>\n",
       "      <td>No</td>\n",
       "      <td>Basic</td>\n",
       "      <td>Bachelor</td>\n",
       "      <td>Employed</td>\n",
       "      <td>F</td>\n",
       "      <td>Suburban</td>\n",
       "      <td>Married</td>\n",
       "      <td>Corporate Auto</td>\n",
       "      <td>Corporate L3</td>\n",
       "      <td>Offer1</td>\n",
       "      <td>Agent</td>\n",
       "      <td>Two-Door Car</td>\n",
       "      <td>Medsize</td>\n",
       "      <td>32</td>\n",
       "      <td>5</td>\n",
       "      <td>0</td>\n",
       "      <td>1</td>\n",
       "    </tr>\n",
       "    <tr>\n",
       "      <th>1</th>\n",
       "      <td>Arizona</td>\n",
       "      <td>No</td>\n",
       "      <td>Extended</td>\n",
       "      <td>Bachelor</td>\n",
       "      <td>Unemployed</td>\n",
       "      <td>F</td>\n",
       "      <td>Suburban</td>\n",
       "      <td>Single</td>\n",
       "      <td>Personal Auto</td>\n",
       "      <td>Personal L3</td>\n",
       "      <td>Offer3</td>\n",
       "      <td>Agent</td>\n",
       "      <td>Four-Door Car</td>\n",
       "      <td>Medsize</td>\n",
       "      <td>13</td>\n",
       "      <td>42</td>\n",
       "      <td>0</td>\n",
       "      <td>8</td>\n",
       "    </tr>\n",
       "    <tr>\n",
       "      <th>2</th>\n",
       "      <td>Nevada</td>\n",
       "      <td>No</td>\n",
       "      <td>Premium</td>\n",
       "      <td>Bachelor</td>\n",
       "      <td>Employed</td>\n",
       "      <td>F</td>\n",
       "      <td>Suburban</td>\n",
       "      <td>Married</td>\n",
       "      <td>Personal Auto</td>\n",
       "      <td>Personal L3</td>\n",
       "      <td>Offer1</td>\n",
       "      <td>Agent</td>\n",
       "      <td>Two-Door Car</td>\n",
       "      <td>Medsize</td>\n",
       "      <td>18</td>\n",
       "      <td>38</td>\n",
       "      <td>0</td>\n",
       "      <td>2</td>\n",
       "    </tr>\n",
       "    <tr>\n",
       "      <th>3</th>\n",
       "      <td>California</td>\n",
       "      <td>No</td>\n",
       "      <td>Basic</td>\n",
       "      <td>Bachelor</td>\n",
       "      <td>Unemployed</td>\n",
       "      <td>M</td>\n",
       "      <td>Suburban</td>\n",
       "      <td>Married</td>\n",
       "      <td>Corporate Auto</td>\n",
       "      <td>Corporate L2</td>\n",
       "      <td>Offer1</td>\n",
       "      <td>Call Center</td>\n",
       "      <td>SUV</td>\n",
       "      <td>Medsize</td>\n",
       "      <td>18</td>\n",
       "      <td>65</td>\n",
       "      <td>0</td>\n",
       "      <td>7</td>\n",
       "    </tr>\n",
       "    <tr>\n",
       "      <th>4</th>\n",
       "      <td>Washington</td>\n",
       "      <td>No</td>\n",
       "      <td>Basic</td>\n",
       "      <td>Bachelor</td>\n",
       "      <td>Employed</td>\n",
       "      <td>M</td>\n",
       "      <td>Rural</td>\n",
       "      <td>Single</td>\n",
       "      <td>Personal Auto</td>\n",
       "      <td>Personal L1</td>\n",
       "      <td>Offer1</td>\n",
       "      <td>Agent</td>\n",
       "      <td>Four-Door Car</td>\n",
       "      <td>Medsize</td>\n",
       "      <td>12</td>\n",
       "      <td>44</td>\n",
       "      <td>0</td>\n",
       "      <td>1</td>\n",
       "    </tr>\n",
       "  </tbody>\n",
       "</table>\n",
       "</div>"
      ],
      "text/plain": [
       "        state response  coverage education employmentstatus gender  \\\n",
       "0  Washington       No     Basic  Bachelor         Employed      F   \n",
       "1     Arizona       No  Extended  Bachelor       Unemployed      F   \n",
       "2      Nevada       No   Premium  Bachelor         Employed      F   \n",
       "3  California       No     Basic  Bachelor       Unemployed      M   \n",
       "4  Washington       No     Basic  Bachelor         Employed      M   \n",
       "\n",
       "  location_code marital_status     policy_type        policy renew_offer_type  \\\n",
       "0      Suburban        Married  Corporate Auto  Corporate L3           Offer1   \n",
       "1      Suburban         Single   Personal Auto   Personal L3           Offer3   \n",
       "2      Suburban        Married   Personal Auto   Personal L3           Offer1   \n",
       "3      Suburban        Married  Corporate Auto  Corporate L2           Offer1   \n",
       "4         Rural         Single   Personal Auto   Personal L1           Offer1   \n",
       "\n",
       "  sales_channel  vehicle_class vehicle_size  months_since_last_claim  \\\n",
       "0         Agent   Two-Door Car      Medsize                       32   \n",
       "1         Agent  Four-Door Car      Medsize                       13   \n",
       "2         Agent   Two-Door Car      Medsize                       18   \n",
       "3   Call Center            SUV      Medsize                       18   \n",
       "4         Agent  Four-Door Car      Medsize                       12   \n",
       "\n",
       "   months_since_policy_inception  number_of_open_complaints  \\\n",
       "0                              5                          0   \n",
       "1                             42                          0   \n",
       "2                             38                          0   \n",
       "3                             65                          0   \n",
       "4                             44                          0   \n",
       "\n",
       "   number_of_policies  \n",
       "0                   1  \n",
       "1                   8  \n",
       "2                   2  \n",
       "3                   7  \n",
       "4                   1  "
      ]
     },
     "execution_count": 25,
     "metadata": {},
     "output_type": "execute_result"
    }
   ],
   "source": [
    "cat_df.head()"
   ]
  },
  {
   "cell_type": "code",
   "execution_count": 26,
   "metadata": {},
   "outputs": [
    {
     "data": {
      "text/html": [
       "<div>\n",
       "<style scoped>\n",
       "    .dataframe tbody tr th:only-of-type {\n",
       "        vertical-align: middle;\n",
       "    }\n",
       "\n",
       "    .dataframe tbody tr th {\n",
       "        vertical-align: top;\n",
       "    }\n",
       "\n",
       "    .dataframe thead th {\n",
       "        text-align: right;\n",
       "    }\n",
       "</style>\n",
       "<table border=\"1\" class=\"dataframe\">\n",
       "  <thead>\n",
       "    <tr style=\"text-align: right;\">\n",
       "      <th></th>\n",
       "      <th>customer_lifetime_value</th>\n",
       "      <th>income</th>\n",
       "      <th>monthly_premium_auto</th>\n",
       "      <th>months_since_last_claim</th>\n",
       "      <th>months_since_policy_inception</th>\n",
       "      <th>number_of_open_complaints</th>\n",
       "      <th>number_of_policies</th>\n",
       "      <th>total_claim_amount</th>\n",
       "      <th>customer_lifetime_value</th>\n",
       "      <th>income</th>\n",
       "      <th>monthly_premium_auto</th>\n",
       "      <th>total_claim_amount</th>\n",
       "    </tr>\n",
       "  </thead>\n",
       "  <tbody>\n",
       "    <tr>\n",
       "      <th>0</th>\n",
       "      <td>2763.519279</td>\n",
       "      <td>56274</td>\n",
       "      <td>69</td>\n",
       "      <td>32</td>\n",
       "      <td>5</td>\n",
       "      <td>0</td>\n",
       "      <td>1</td>\n",
       "      <td>384.811147</td>\n",
       "      <td>2763.519279</td>\n",
       "      <td>56274</td>\n",
       "      <td>69</td>\n",
       "      <td>384.811147</td>\n",
       "    </tr>\n",
       "    <tr>\n",
       "      <th>1</th>\n",
       "      <td>6979.535903</td>\n",
       "      <td>0</td>\n",
       "      <td>94</td>\n",
       "      <td>13</td>\n",
       "      <td>42</td>\n",
       "      <td>0</td>\n",
       "      <td>8</td>\n",
       "      <td>1131.464935</td>\n",
       "      <td>6979.535903</td>\n",
       "      <td>0</td>\n",
       "      <td>94</td>\n",
       "      <td>1131.464935</td>\n",
       "    </tr>\n",
       "    <tr>\n",
       "      <th>2</th>\n",
       "      <td>12887.431650</td>\n",
       "      <td>48767</td>\n",
       "      <td>108</td>\n",
       "      <td>18</td>\n",
       "      <td>38</td>\n",
       "      <td>0</td>\n",
       "      <td>2</td>\n",
       "      <td>566.472247</td>\n",
       "      <td>12887.431650</td>\n",
       "      <td>48767</td>\n",
       "      <td>108</td>\n",
       "      <td>566.472247</td>\n",
       "    </tr>\n",
       "    <tr>\n",
       "      <th>3</th>\n",
       "      <td>7645.861827</td>\n",
       "      <td>0</td>\n",
       "      <td>106</td>\n",
       "      <td>18</td>\n",
       "      <td>65</td>\n",
       "      <td>0</td>\n",
       "      <td>7</td>\n",
       "      <td>529.881344</td>\n",
       "      <td>7645.861827</td>\n",
       "      <td>0</td>\n",
       "      <td>106</td>\n",
       "      <td>529.881344</td>\n",
       "    </tr>\n",
       "    <tr>\n",
       "      <th>4</th>\n",
       "      <td>2813.692575</td>\n",
       "      <td>43836</td>\n",
       "      <td>73</td>\n",
       "      <td>12</td>\n",
       "      <td>44</td>\n",
       "      <td>0</td>\n",
       "      <td>1</td>\n",
       "      <td>138.130879</td>\n",
       "      <td>2813.692575</td>\n",
       "      <td>43836</td>\n",
       "      <td>73</td>\n",
       "      <td>138.130879</td>\n",
       "    </tr>\n",
       "  </tbody>\n",
       "</table>\n",
       "</div>"
      ],
      "text/plain": [
       "   customer_lifetime_value  income  monthly_premium_auto  \\\n",
       "0              2763.519279   56274                    69   \n",
       "1              6979.535903       0                    94   \n",
       "2             12887.431650   48767                   108   \n",
       "3              7645.861827       0                   106   \n",
       "4              2813.692575   43836                    73   \n",
       "\n",
       "   months_since_last_claim  months_since_policy_inception  \\\n",
       "0                       32                              5   \n",
       "1                       13                             42   \n",
       "2                       18                             38   \n",
       "3                       18                             65   \n",
       "4                       12                             44   \n",
       "\n",
       "   number_of_open_complaints  number_of_policies  total_claim_amount  \\\n",
       "0                          0                   1          384.811147   \n",
       "1                          0                   8         1131.464935   \n",
       "2                          0                   2          566.472247   \n",
       "3                          0                   7          529.881344   \n",
       "4                          0                   1          138.130879   \n",
       "\n",
       "   customer_lifetime_value  income  monthly_premium_auto  total_claim_amount  \n",
       "0              2763.519279   56274                    69          384.811147  \n",
       "1              6979.535903       0                    94         1131.464935  \n",
       "2             12887.431650   48767                   108          566.472247  \n",
       "3              7645.861827       0                   106          529.881344  \n",
       "4              2813.692575   43836                    73          138.130879  "
      ]
     },
     "execution_count": 26,
     "metadata": {},
     "output_type": "execute_result"
    }
   ],
   "source": [
    "num_df.head()"
   ]
  },
  {
   "cell_type": "markdown",
   "metadata": {},
   "source": [
    "### 12.  What should we do with the customer id column?\n",
    "* allready dropped!"
   ]
  },
  {
   "cell_type": "markdown",
   "metadata": {},
   "source": [
    "#### LAB 4.2  Finished -----------------------------------------"
   ]
  },
  {
   "cell_type": "markdown",
   "metadata": {},
   "source": [
    "### Lab | Feature extraction"
   ]
  },
  {
   "cell_type": "markdown",
   "metadata": {},
   "source": [
    "### 1. Open the `categoricals` variable we created before.\n",
    "\n",
    "```python\n",
    "categoricals = data.select_dtypes(np.object)\n",
    "categoricals.head()\n",
    "```\n",
    "\n",
    "### 2. Plot all the categorical variables with the proper plot. What can you see?\n"
   ]
  },
  {
   "cell_type": "code",
   "execution_count": 27,
   "metadata": {},
   "outputs": [
    {
     "data": {
      "text/html": [
       "<div>\n",
       "<style scoped>\n",
       "    .dataframe tbody tr th:only-of-type {\n",
       "        vertical-align: middle;\n",
       "    }\n",
       "\n",
       "    .dataframe tbody tr th {\n",
       "        vertical-align: top;\n",
       "    }\n",
       "\n",
       "    .dataframe thead th {\n",
       "        text-align: right;\n",
       "    }\n",
       "</style>\n",
       "<table border=\"1\" class=\"dataframe\">\n",
       "  <thead>\n",
       "    <tr style=\"text-align: right;\">\n",
       "      <th></th>\n",
       "      <th>state</th>\n",
       "      <th>response</th>\n",
       "      <th>coverage</th>\n",
       "      <th>education</th>\n",
       "      <th>employmentstatus</th>\n",
       "      <th>gender</th>\n",
       "      <th>location_code</th>\n",
       "      <th>marital_status</th>\n",
       "      <th>policy_type</th>\n",
       "      <th>policy</th>\n",
       "      <th>renew_offer_type</th>\n",
       "      <th>sales_channel</th>\n",
       "      <th>vehicle_class</th>\n",
       "      <th>vehicle_size</th>\n",
       "      <th>months_since_last_claim</th>\n",
       "      <th>months_since_policy_inception</th>\n",
       "      <th>number_of_open_complaints</th>\n",
       "      <th>number_of_policies</th>\n",
       "    </tr>\n",
       "  </thead>\n",
       "  <tbody>\n",
       "    <tr>\n",
       "      <th>0</th>\n",
       "      <td>Washington</td>\n",
       "      <td>No</td>\n",
       "      <td>Basic</td>\n",
       "      <td>Bachelor</td>\n",
       "      <td>Employed</td>\n",
       "      <td>F</td>\n",
       "      <td>Suburban</td>\n",
       "      <td>Married</td>\n",
       "      <td>Corporate Auto</td>\n",
       "      <td>Corporate L3</td>\n",
       "      <td>Offer1</td>\n",
       "      <td>Agent</td>\n",
       "      <td>Two-Door Car</td>\n",
       "      <td>Medsize</td>\n",
       "      <td>32</td>\n",
       "      <td>5</td>\n",
       "      <td>0</td>\n",
       "      <td>1</td>\n",
       "    </tr>\n",
       "    <tr>\n",
       "      <th>1</th>\n",
       "      <td>Arizona</td>\n",
       "      <td>No</td>\n",
       "      <td>Extended</td>\n",
       "      <td>Bachelor</td>\n",
       "      <td>Unemployed</td>\n",
       "      <td>F</td>\n",
       "      <td>Suburban</td>\n",
       "      <td>Single</td>\n",
       "      <td>Personal Auto</td>\n",
       "      <td>Personal L3</td>\n",
       "      <td>Offer3</td>\n",
       "      <td>Agent</td>\n",
       "      <td>Four-Door Car</td>\n",
       "      <td>Medsize</td>\n",
       "      <td>13</td>\n",
       "      <td>42</td>\n",
       "      <td>0</td>\n",
       "      <td>8</td>\n",
       "    </tr>\n",
       "    <tr>\n",
       "      <th>2</th>\n",
       "      <td>Nevada</td>\n",
       "      <td>No</td>\n",
       "      <td>Premium</td>\n",
       "      <td>Bachelor</td>\n",
       "      <td>Employed</td>\n",
       "      <td>F</td>\n",
       "      <td>Suburban</td>\n",
       "      <td>Married</td>\n",
       "      <td>Personal Auto</td>\n",
       "      <td>Personal L3</td>\n",
       "      <td>Offer1</td>\n",
       "      <td>Agent</td>\n",
       "      <td>Two-Door Car</td>\n",
       "      <td>Medsize</td>\n",
       "      <td>18</td>\n",
       "      <td>38</td>\n",
       "      <td>0</td>\n",
       "      <td>2</td>\n",
       "    </tr>\n",
       "    <tr>\n",
       "      <th>3</th>\n",
       "      <td>California</td>\n",
       "      <td>No</td>\n",
       "      <td>Basic</td>\n",
       "      <td>Bachelor</td>\n",
       "      <td>Unemployed</td>\n",
       "      <td>M</td>\n",
       "      <td>Suburban</td>\n",
       "      <td>Married</td>\n",
       "      <td>Corporate Auto</td>\n",
       "      <td>Corporate L2</td>\n",
       "      <td>Offer1</td>\n",
       "      <td>Call Center</td>\n",
       "      <td>SUV</td>\n",
       "      <td>Medsize</td>\n",
       "      <td>18</td>\n",
       "      <td>65</td>\n",
       "      <td>0</td>\n",
       "      <td>7</td>\n",
       "    </tr>\n",
       "    <tr>\n",
       "      <th>4</th>\n",
       "      <td>Washington</td>\n",
       "      <td>No</td>\n",
       "      <td>Basic</td>\n",
       "      <td>Bachelor</td>\n",
       "      <td>Employed</td>\n",
       "      <td>M</td>\n",
       "      <td>Rural</td>\n",
       "      <td>Single</td>\n",
       "      <td>Personal Auto</td>\n",
       "      <td>Personal L1</td>\n",
       "      <td>Offer1</td>\n",
       "      <td>Agent</td>\n",
       "      <td>Four-Door Car</td>\n",
       "      <td>Medsize</td>\n",
       "      <td>12</td>\n",
       "      <td>44</td>\n",
       "      <td>0</td>\n",
       "      <td>1</td>\n",
       "    </tr>\n",
       "  </tbody>\n",
       "</table>\n",
       "</div>"
      ],
      "text/plain": [
       "        state response  coverage education employmentstatus gender  \\\n",
       "0  Washington       No     Basic  Bachelor         Employed      F   \n",
       "1     Arizona       No  Extended  Bachelor       Unemployed      F   \n",
       "2      Nevada       No   Premium  Bachelor         Employed      F   \n",
       "3  California       No     Basic  Bachelor       Unemployed      M   \n",
       "4  Washington       No     Basic  Bachelor         Employed      M   \n",
       "\n",
       "  location_code marital_status     policy_type        policy renew_offer_type  \\\n",
       "0      Suburban        Married  Corporate Auto  Corporate L3           Offer1   \n",
       "1      Suburban         Single   Personal Auto   Personal L3           Offer3   \n",
       "2      Suburban        Married   Personal Auto   Personal L3           Offer1   \n",
       "3      Suburban        Married  Corporate Auto  Corporate L2           Offer1   \n",
       "4         Rural         Single   Personal Auto   Personal L1           Offer1   \n",
       "\n",
       "  sales_channel  vehicle_class vehicle_size  months_since_last_claim  \\\n",
       "0         Agent   Two-Door Car      Medsize                       32   \n",
       "1         Agent  Four-Door Car      Medsize                       13   \n",
       "2         Agent   Two-Door Car      Medsize                       18   \n",
       "3   Call Center            SUV      Medsize                       18   \n",
       "4         Agent  Four-Door Car      Medsize                       12   \n",
       "\n",
       "   months_since_policy_inception  number_of_open_complaints  \\\n",
       "0                              5                          0   \n",
       "1                             42                          0   \n",
       "2                             38                          0   \n",
       "3                             65                          0   \n",
       "4                             44                          0   \n",
       "\n",
       "   number_of_policies  \n",
       "0                   1  \n",
       "1                   8  \n",
       "2                   2  \n",
       "3                   7  \n",
       "4                   1  "
      ]
     },
     "execution_count": 27,
     "metadata": {},
     "output_type": "execute_result"
    }
   ],
   "source": [
    "cat_df.head()"
   ]
  },
  {
   "cell_type": "code",
   "execution_count": 28,
   "metadata": {},
   "outputs": [
    {
     "data": {
      "image/png": "[encoded data removed]",
      "text/plain": [
       "<Figure size 720x360 with 1 Axes>"
      ]
     },
     "metadata": {},
     "output_type": "display_data"
    },
    {
     "data": {
      "image/png": "[encoded data removed]",
      "text/plain": [
       "<Figure size 720x360 with 1 Axes>"
      ]
     },
     "metadata": {},
     "output_type": "display_data"
    },
    {
     "data": {
      "image/png": "[encoded data removed]",
      "text/plain": [
       "<Figure size 720x360 with 1 Axes>"
      ]
     },
     "metadata": {},
     "output_type": "display_data"
    },
    {
     "data": {
      "image/png": "[encoded data removed]",
      "text/plain": [
       "<Figure size 720x360 with 1 Axes>"
      ]
     },
     "metadata": {},
     "output_type": "display_data"
    },
    {
     "data": {
      "image/png": "[encoded data removed]",
      "text/plain": [
       "<Figure size 720x360 with 1 Axes>"
      ]
     },
     "metadata": {},
     "output_type": "display_data"
    },
    {
     "data": {
      "image/png": "[encoded data removed]",
      "text/plain": [
       "<Figure size 720x360 with 1 Axes>"
      ]
     },
     "metadata": {},
     "output_type": "display_data"
    },
    {
     "data": {
      "image/png": "[encoded data removed]",
      "text/plain": [
       "<Figure size 720x360 with 1 Axes>"
      ]
     },
     "metadata": {},
     "output_type": "display_data"
    },
    {
     "data": {
      "image/png": "[encoded data removed]",
      "text/plain": [
       "<Figure size 720x360 with 1 Axes>"
      ]
     },
     "metadata": {},
     "output_type": "display_data"
    },
    {
     "data": {
      "image/png": "[encoded data removed]",
      "text/plain": [
       "<Figure size 720x360 with 1 Axes>"
      ]
     },
     "metadata": {},
     "output_type": "display_data"
    },
    {
     "data": {
      "image/png": "[encoded data removed]",
      "text/plain": [
       "<Figure size 720x360 with 1 Axes>"
      ]
     },
     "metadata": {},
     "output_type": "display_data"
    },
    {
     "data": {
      "image/png": "[encoded data removed]",
      "text/plain": [
       "<Figure size 720x360 with 1 Axes>"
      ]
     },
     "metadata": {},
     "output_type": "display_data"
    },
    {
     "data": {
      "image/png": "[encoded data removed]",
      "text/plain": [
       "<Figure size 720x360 with 1 Axes>"
      ]
     },
     "metadata": {},
     "output_type": "display_data"
    },
    {
     "data": {
      "image/png": "[encoded data removed]",
      "text/plain": [
       "<Figure size 720x360 with 1 Axes>"
      ]
     },
     "metadata": {},
     "output_type": "display_data"
    },
    {
     "data": {
      "image/png": "[encoded data removed]",
      "text/plain": [
       "<Figure size 720x360 with 1 Axes>"
      ]
     },
     "metadata": {},
     "output_type": "display_data"
    },
    {
     "data": {
      "image/png": "[encoded data removed]",
      "text/plain": [
       "<Figure size 720x360 with 1 Axes>"
      ]
     },
     "metadata": {},
     "output_type": "display_data"
    },
    {
     "data": {
      "image/png": "[encoded data removed]",
      "text/plain": [
       "<Figure size 720x360 with 1 Axes>"
      ]
     },
     "metadata": {},
     "output_type": "display_data"
    },
    {
     "data": {
      "image/png": "[encoded data removed]",
      "text/plain": [
       "<Figure size 720x360 with 1 Axes>"
      ]
     },
     "metadata": {},
     "output_type": "display_data"
    },
    {
     "data": {
      "image/png": "[encoded data removed]",
      "text/plain": [
       "<Figure size 720x360 with 1 Axes>"
      ]
     },
     "metadata": {},
     "output_type": "display_data"
    }
   ],
   "source": [
    "for c in cat_df:\n",
    "    plt.figure(figsize=(10,5))\n",
    "    plt.bar(data[c].unique(), data[c].value_counts())\n",
    "    plt.title(c)\n",
    "    plt.show()"
   ]
  },
  {
   "cell_type": "markdown",
   "metadata": {},
   "source": [
    "### 3. There might be some columns that seem to be redundant, check their values to be sure. What should we do with them?\n",
    "\n",
    "#####  we can drop:\n",
    "* **gender** \n",
    "\n",
    "##### we can group values in: \n",
    "* **policy, vehicle_class, months_since_last_claim, months_since_policy_inception, number_of_open_complaints, number_of_policies**\n"
   ]
  },
  {
   "cell_type": "code",
   "execution_count": 29,
   "metadata": {},
   "outputs": [
    {
     "name": "stdout",
     "output_type": "stream",
     "text": [
      "Categorical Features: 9134\n",
      "----------\n",
      "Name: state\n",
      "Type: object\n",
      "Unique values: 5\n",
      "['Washington' 'Arizona' 'Nevada' 'California' 'Oregon']\n",
      "California    34.486534\n",
      "Oregon        28.476024\n",
      "Arizona       18.644624\n",
      "Nevada         9.656229\n",
      "Washington     8.736589\n",
      "Name: state, dtype: float64\n",
      "\n",
      "----------\n",
      "Name: response\n",
      "Type: object\n",
      "Unique values: 2\n",
      "['No' 'Yes']\n",
      "No     85.679877\n",
      "Yes    14.320123\n",
      "Name: response, dtype: float64\n",
      "\n",
      "----------\n",
      "Name: coverage\n",
      "Type: object\n",
      "Unique values: 3\n",
      "['Basic' 'Extended' 'Premium']\n",
      "Basic       60.959054\n",
      "Extended    30.019707\n",
      "Premium      9.021239\n",
      "Name: coverage, dtype: float64\n",
      "\n",
      "----------\n",
      "Name: education\n",
      "Type: object\n",
      "Unique values: 5\n",
      "['Bachelor' 'College' 'Master' 'High School or Below' 'Doctor']\n",
      "Bachelor                30.085395\n",
      "College                 29.351872\n",
      "High School or Below    28.705934\n",
      "Master                   8.112547\n",
      "Doctor                   3.744252\n",
      "Name: education, dtype: float64\n",
      "\n",
      "----------\n",
      "Name: employmentstatus\n",
      "Type: object\n",
      "Unique values: 5\n",
      "['Employed' 'Unemployed' 'Medical Leave' 'Disabled' 'Retired']\n",
      "Employed         62.382308\n",
      "Unemployed       25.366762\n",
      "Medical Leave     4.729582\n",
      "Disabled          4.433983\n",
      "Retired           3.087366\n",
      "Name: employmentstatus, dtype: float64\n",
      "\n",
      "----------\n",
      "Name: gender\n",
      "Type: object\n",
      "Unique values: 2\n",
      "['F' 'M']\n",
      "F    50.996278\n",
      "M    49.003722\n",
      "Name: gender, dtype: float64\n",
      "\n",
      "----------\n",
      "Name: location_code\n",
      "Type: object\n",
      "Unique values: 3\n",
      "['Suburban' 'Rural' 'Urban']\n",
      "Suburban    63.269104\n",
      "Rural       19.410992\n",
      "Urban       17.319904\n",
      "Name: location_code, dtype: float64\n",
      "\n",
      "----------\n",
      "Name: marital_status\n",
      "Type: object\n",
      "Unique values: 3\n",
      "['Married' 'Single' 'Divorced']\n",
      "Married     58.003065\n",
      "Single      27.008977\n",
      "Divorced    14.987957\n",
      "Name: marital_status, dtype: float64\n",
      "\n",
      "----------\n",
      "Name: policy_type\n",
      "Type: object\n",
      "Unique values: 3\n",
      "['Corporate Auto' 'Personal Auto' 'Special Auto']\n",
      "Personal Auto     74.315743\n",
      "Corporate Auto    21.545873\n",
      "Special Auto       4.138384\n",
      "Name: policy_type, dtype: float64\n",
      "\n",
      "----------\n",
      "Name: policy\n",
      "Type: object\n",
      "Unique values: 9\n",
      "['Corporate L3' 'Personal L3' 'Corporate L2' 'Personal L1' 'Special L2'\n",
      " 'Corporate L1' 'Personal L2' 'Special L1' 'Special L3']\n",
      "Personal L3     37.508211\n",
      "Personal L2     23.231881\n",
      "Personal L1     13.575651\n",
      "Corporate L3    11.101379\n",
      "Corporate L2     6.514123\n",
      "Corporate L1     3.930370\n",
      "Special L2       1.795489\n",
      "Special L3       1.620320\n",
      "Special L1       0.722575\n",
      "Name: policy, dtype: float64\n",
      "\n",
      "----------\n",
      "Name: renew_offer_type\n",
      "Type: object\n",
      "Unique values: 4\n",
      "['Offer1' 'Offer3' 'Offer2' 'Offer4']\n",
      "Offer1    41.077294\n",
      "Offer2    32.034158\n",
      "Offer3    15.677688\n",
      "Offer4    11.210861\n",
      "Name: renew_offer_type, dtype: float64\n",
      "\n",
      "----------\n",
      "Name: sales_channel\n",
      "Type: object\n",
      "Unique values: 4\n",
      "['Agent' 'Call Center' 'Web' 'Branch']\n",
      "Agent          38.066564\n",
      "Branch         28.103788\n",
      "Call Center    19.323407\n",
      "Web            14.506240\n",
      "Name: sales_channel, dtype: float64\n",
      "\n",
      "----------\n",
      "Name: vehicle_class\n",
      "Type: object\n",
      "Unique values: 6\n",
      "['Two-Door Car' 'Four-Door Car' 'SUV' 'Luxury SUV' 'Sports Car'\n",
      " 'Luxury Car']\n",
      "Four-Door Car    50.591198\n",
      "Two-Door Car     20.648128\n",
      "SUV              19.662798\n",
      "Sports Car        5.298883\n",
      "Luxury SUV        2.014451\n",
      "Luxury Car        1.784541\n",
      "Name: vehicle_class, dtype: float64\n",
      "\n",
      "----------\n",
      "Name: vehicle_size\n",
      "Type: object\n",
      "Unique values: 3\n",
      "['Medsize' 'Small' 'Large']\n",
      "Medsize    70.330633\n",
      "Small      19.312459\n",
      "Large      10.356908\n",
      "Name: vehicle_size, dtype: float64\n",
      "\n",
      "----------\n",
      "Name: months_since_last_claim\n",
      "Type: int64\n",
      "Unique values: 36\n",
      "[32 13 18 12 14  0 17 23 27  9 21 11 31  8  4 30 22 15 33  1 19 28 10  7\n",
      "  3  5 20 24 29 34  6 35  2 16 26 25]\n",
      "3     4.171228\n",
      "6     3.985111\n",
      "1     3.777097\n",
      "4     3.667616\n",
      "7     3.645719\n",
      "2     3.601927\n",
      "0     3.437705\n",
      "5     3.426757\n",
      "10    3.350120\n",
      "11    3.251587\n",
      "16    3.229691\n",
      "15    3.131158\n",
      "13    3.120210\n",
      "8     3.054522\n",
      "12    2.988833\n",
      "14    2.934092\n",
      "17    2.879352\n",
      "9     2.737026\n",
      "19    2.693234\n",
      "23    2.616597\n",
      "25    2.583753\n",
      "21    2.550909\n",
      "20    2.529012\n",
      "18    2.507116\n",
      "22    2.386687\n",
      "24    2.310050\n",
      "29    2.255310\n",
      "28    2.200569\n",
      "31    2.080140\n",
      "26    2.036348\n",
      "30    1.992555\n",
      "27    1.992555\n",
      "33    1.959711\n",
      "34    1.850230\n",
      "35    1.554631\n",
      "32    1.510839\n",
      "Name: months_since_last_claim, dtype: float64\n",
      "\n",
      "----------\n",
      "Name: months_since_policy_inception\n",
      "Type: int64\n",
      "Unique values: 100\n",
      "[ 5 42 38 65 44 94 13 68  3  7 87 82 25 10 50 59  1 21 49 91 47 64 54  6\n",
      " 14 56 17 40 62 86 79 15 32 28 16  4 57 77 95 26 53 12 98 36 71 60 20  0\n",
      " 27 48 33 83 30 69 90 81 84 88 18 11 85 93 34 89  2 70 37 43  8 35 99 55\n",
      " 75 51 92 29 63 61 46 41 31 45 67 22 23  9 72 96 58 66 73 39 19 97 52 76\n",
      " 78 80 74 24]\n",
      "59    1.554631\n",
      "61    1.401358\n",
      "50    1.368513\n",
      "44    1.259032\n",
      "10    1.248084\n",
      "3     1.248084\n",
      "56    1.226188\n",
      "38    1.204292\n",
      "34    1.193344\n",
      "43    1.193344\n",
      "35    1.193344\n",
      "15    1.193344\n",
      "63    1.171447\n",
      "52    1.160499\n",
      "31    1.160499\n",
      "19    1.160499\n",
      "21    1.149551\n",
      "62    1.138603\n",
      "11    1.138603\n",
      "37    1.127655\n",
      "20    1.127655\n",
      "28    1.127655\n",
      "70    1.116707\n",
      "72    1.105759\n",
      "79    1.105759\n",
      "17    1.105759\n",
      "12    1.094811\n",
      "71    1.094811\n",
      "84    1.094811\n",
      "30    1.083862\n",
      "75    1.072914\n",
      "29    1.072914\n",
      "89    1.061966\n",
      "45    1.061966\n",
      "47    1.061966\n",
      "27    1.061966\n",
      "9     1.051018\n",
      "64    1.051018\n",
      "32    1.051018\n",
      "77    1.040070\n",
      "42    1.029122\n",
      "51    1.029122\n",
      "22    1.018174\n",
      "46    1.018174\n",
      "54    1.018174\n",
      "48    1.018174\n",
      "66    1.007226\n",
      "74    0.996278\n",
      "4     0.996278\n",
      "68    0.985330\n",
      "93    0.985330\n",
      "18    0.985330\n",
      "36    0.985330\n",
      "2     0.974381\n",
      "25    0.974381\n",
      "40    0.974381\n",
      "73    0.963433\n",
      "55    0.963433\n",
      "23    0.963433\n",
      "69    0.952485\n",
      "86    0.952485\n",
      "5     0.952485\n",
      "57    0.952485\n",
      "41    0.952485\n",
      "76    0.941537\n",
      "49    0.941537\n",
      "39    0.930589\n",
      "1     0.930589\n",
      "65    0.930589\n",
      "85    0.930589\n",
      "90    0.919641\n",
      "14    0.908693\n",
      "0     0.908693\n",
      "24    0.897745\n",
      "78    0.897745\n",
      "13    0.886797\n",
      "8     0.886797\n",
      "67    0.886797\n",
      "26    0.875848\n",
      "7     0.864900\n",
      "60    0.853952\n",
      "99    0.853952\n",
      "95    0.843004\n",
      "33    0.843004\n",
      "53    0.843004\n",
      "87    0.832056\n",
      "88    0.832056\n",
      "58    0.832056\n",
      "81    0.832056\n",
      "91    0.821108\n",
      "83    0.821108\n",
      "92    0.810160\n",
      "80    0.799212\n",
      "6     0.799212\n",
      "94    0.788264\n",
      "16    0.766367\n",
      "96    0.733523\n",
      "82    0.613094\n",
      "98    0.591198\n",
      "97    0.569302\n",
      "Name: months_since_policy_inception, dtype: float64\n",
      "\n",
      "----------\n",
      "Name: number_of_open_complaints\n",
      "Type: int64\n",
      "Unique values: 6\n",
      "[0 2 1 3 5 4]\n",
      "0    79.395665\n",
      "1    11.068535\n",
      "2     4.094592\n",
      "3     3.196847\n",
      "4     1.631268\n",
      "5     0.613094\n",
      "Name: number_of_open_complaints, dtype: float64\n",
      "\n",
      "----------\n",
      "Name: number_of_policies\n",
      "Type: int64\n",
      "Unique values: 9\n",
      "[1 8 2 7 9 4 3 6 5]\n",
      "1    35.592293\n",
      "2    25.114955\n",
      "3    12.787388\n",
      "7     4.740530\n",
      "9     4.554412\n",
      "4     4.477775\n",
      "5     4.455879\n",
      "8     4.204073\n",
      "6     4.072695\n",
      "Name: number_of_policies, dtype: float64\n",
      "\n",
      "----------\n"
     ]
    }
   ],
   "source": [
    "# check for unique values -- code from Himanshu\n",
    "\n",
    "print('Categorical Features:', len(cat_df))\n",
    "print('----------')\n",
    "for c in cat_df:\n",
    "    print('Name: {}'.format(data[c].name))    # column name\n",
    "    print('Type: {}'.format(data[c].dtype))   # column type\n",
    "    print('Unique values: {}'.format(len(data[c].unique())))   # column unique values\n",
    "    print(data[c].unique())\n",
    "    print(((data[c].value_counts()/ sum(data[c].value_counts()))*100))   # percentage\n",
    "    print('\\n----------')"
   ]
  },
  {
   "cell_type": "markdown",
   "metadata": {},
   "source": []
  },
  {
   "cell_type": "markdown",
   "metadata": {},
   "source": [
    "### 4. Plot time variable. Can you extract something from it?\n",
    "* **months_since_last_claim** can be grouped in 4 - categories5\n",
    "* **months_since_policy_inception** is to homogeneous, we cam dropped it "
   ]
  },
  {
   "cell_type": "code",
   "execution_count": 30,
   "metadata": {},
   "outputs": [],
   "source": [
    " cat_time = cat_df[[\"months_since_last_claim\", \"months_since_policy_inception\"]]"
   ]
  },
  {
   "cell_type": "code",
   "execution_count": 31,
   "metadata": {},
   "outputs": [
    {
     "data": {
      "text/plain": [
       "(9134, 2)"
      ]
     },
     "execution_count": 31,
     "metadata": {},
     "output_type": "execute_result"
    }
   ],
   "source": [
    "cat_time.shape\n"
   ]
  },
  {
   "cell_type": "code",
   "execution_count": 34,
   "metadata": {},
   "outputs": [
    {
     "data": {
      "image/png": "[encoded data removed]",
      "text/plain": [
       "<Figure size 432x288 with 1 Axes>"
      ]
     },
     "metadata": {},
     "output_type": "display_data"
    },
    {
     "data": {
      "image/png": "[encoded data removed]",
      "text/plain": [
       "<Figure size 432x288 with 1 Axes>"
      ]
     },
     "metadata": {},
     "output_type": "display_data"
    }
   ],
   "source": [
    "for i in range(cat_time.shape[1]):\n",
    "    sns.histplot(cat_time[cat_time.columns[i]], bins=40)\n",
    "    plt.show()"
   ]
  },
  {
   "cell_type": "markdown",
   "metadata": {},
   "source": [
    "### Finished -------------------------------"
   ]
  }
 ],
 "metadata": {
  "kernelspec": {
   "display_name": "Python 3",
   "language": "python",
   "name": "python3"
  },
  "language_info": {
   "codemirror_mode": {
    "name": "ipython",
    "version": 3
   },
   "file_extension": ".py",
   "mimetype": "text/x-python",
   "name": "python",
   "nbconvert_exporter": "python",
   "pygments_lexer": "ipython3",
   "version": "3.8.5"
  }
 },
 "nbformat": 4,
 "nbformat_minor": 4
}
