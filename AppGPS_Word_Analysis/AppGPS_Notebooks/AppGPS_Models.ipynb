{
 "cells": [
  {
   "cell_type": "markdown",
   "id": "alien-relationship",
   "metadata": {},
   "source": [
    "# AppGPS\n",
    "\n",
    "\n",
    "### What makes people to like or dislike an App in the category communication of Google Play Store?\n",
    "\n",
    "\n",
    "### What characterize the description of best ranket Apps\n"
   ]
  },
  {
   "cell_type": "code",
   "execution_count": 1,
   "id": "internal-ownership",
   "metadata": {},
   "outputs": [],
   "source": [
    "import numpy as np\n",
    "import pandas as pd\n",
    "# For visualizations\n",
    "import matplotlib.pyplot as plt\n",
    "from matplotlib.colors import BASE_COLORS\n",
    "\n",
    "%matplotlib inline\n",
    "\n",
    "\n",
    "import seaborn as sns\n",
    "sns.set_theme(style=\"ticks\", color_codes=True)\n",
    "\n",
    "# For regular expressions\n",
    "import re\n",
    "# For handling string\n",
    "import string\n",
    "# For performing mathematical operations\n",
    "import math\n",
    "# For perfomance tracking \n",
    "from tqdm.notebook import trange, tqdm\n",
    "\n",
    "\n",
    "# For tokenazing the text with Python\n",
    "import spacy\n",
    "# For Document Term Matrix\n",
    "from sklearn.feature_extraction.text import CountVectorizer \n",
    "\n",
    "import nltk\n",
    "# For counting unique words\n",
    "from collections import Counter\n",
    "\n",
    "import warnings\n",
    "warnings.filterwarnings('ignore')\n",
    "\n",
    "import pickle"
   ]
  },
  {
   "cell_type": "code",
   "execution_count": 99,
   "id": "paperback-jason",
   "metadata": {},
   "outputs": [],
   "source": [
    "data = pd.read_csv(\"lematized_data.csv\") "
   ]
  },
  {
   "cell_type": "code",
   "execution_count": 100,
   "id": "indian-sodium",
   "metadata": {},
   "outputs": [],
   "source": [
    "# delete all the rows with score 3 to avoid neutral values and train the test with negative and positives\n",
    "\n",
    "data = data[data.score != 3]"
   ]
  },
  {
   "cell_type": "code",
   "execution_count": 101,
   "id": "useful-marble",
   "metadata": {},
   "outputs": [],
   "source": [
    "# create a label for sentiment analysis\n",
    "data['label'] = data['score'].apply(lambda x: 'Positive' if x >= 4 else 'Negative')\n",
    "\n",
    "#data['label'] = data['score'].apply(lambda x: 'Positive' if x > 3 else('Neutral' if x == 3  else 'Negative'))\n"
   ]
  },
  {
   "cell_type": "code",
   "execution_count": 102,
   "id": "caroline-blues",
   "metadata": {},
   "outputs": [],
   "source": [
    "#create a target\n",
    "data['target'] = data['score'].apply(lambda x: 1 if x >= 4 else 0)"
   ]
  },
  {
   "cell_type": "code",
   "execution_count": 103,
   "id": "optical-rates",
   "metadata": {},
   "outputs": [],
   "source": [
    "\n",
    "data_clean = data.dropna(how='any', subset=['lemmatized'], axis=0)"
   ]
  },
  {
   "cell_type": "code",
   "execution_count": 104,
   "id": "actual-cincinnati",
   "metadata": {},
   "outputs": [
    {
     "data": {
      "text/html": [
       "<div>\n",
       "<style scoped>\n",
       "    .dataframe tbody tr th:only-of-type {\n",
       "        vertical-align: middle;\n",
       "    }\n",
       "\n",
       "    .dataframe tbody tr th {\n",
       "        vertical-align: top;\n",
       "    }\n",
       "\n",
       "    .dataframe thead th {\n",
       "        text-align: right;\n",
       "    }\n",
       "</style>\n",
       "<table border=\"1\" class=\"dataframe\">\n",
       "  <thead>\n",
       "    <tr style=\"text-align: right;\">\n",
       "      <th></th>\n",
       "      <th>score</th>\n",
       "      <th>thumbsupcount</th>\n",
       "      <th>at</th>\n",
       "      <th>appid</th>\n",
       "      <th>content</th>\n",
       "      <th>lemmatized</th>\n",
       "      <th>label</th>\n",
       "      <th>target</th>\n",
       "    </tr>\n",
       "  </thead>\n",
       "  <tbody>\n",
       "    <tr>\n",
       "      <th>0</th>\n",
       "      <td>1</td>\n",
       "      <td>881</td>\n",
       "      <td>2021-03-05 10:53:50</td>\n",
       "      <td>com.android.chrome</td>\n",
       "      <td>just got the update and now chrome has just st...</td>\n",
       "      <td>get update chrome stop work reason try clear c...</td>\n",
       "      <td>Negative</td>\n",
       "      <td>0</td>\n",
       "    </tr>\n",
       "    <tr>\n",
       "      <th>1</th>\n",
       "      <td>1</td>\n",
       "      <td>570</td>\n",
       "      <td>2021-03-06 20:56:06</td>\n",
       "      <td>com.android.chrome</td>\n",
       "      <td>i used to love this but the grouped tabs are i...</td>\n",
       "      <td>love group tab illogical add extra click want ...</td>\n",
       "      <td>Negative</td>\n",
       "      <td>0</td>\n",
       "    </tr>\n",
       "    <tr>\n",
       "      <th>2</th>\n",
       "      <td>1</td>\n",
       "      <td>31</td>\n",
       "      <td>2021-03-05 19:19:02</td>\n",
       "      <td>com.android.chrome</td>\n",
       "      <td>i was super happy with chrome for android this...</td>\n",
       "      <td>super happy chrome android change immediately ...</td>\n",
       "      <td>Negative</td>\n",
       "      <td>0</td>\n",
       "    </tr>\n",
       "    <tr>\n",
       "      <th>3</th>\n",
       "      <td>1</td>\n",
       "      <td>148</td>\n",
       "      <td>2021-03-04 09:21:44</td>\n",
       "      <td>com.android.chrome</td>\n",
       "      <td>when i enter google on my phone and enter a ce...</td>\n",
       "      <td>enter google phone enter certain site switch g...</td>\n",
       "      <td>Negative</td>\n",
       "      <td>0</td>\n",
       "    </tr>\n",
       "    <tr>\n",
       "      <th>4</th>\n",
       "      <td>1</td>\n",
       "      <td>41</td>\n",
       "      <td>2021-03-05 13:20:29</td>\n",
       "      <td>com.android.chrome</td>\n",
       "      <td>the new update is total bs the tab layout is t...</td>\n",
       "      <td>new update total bs tab layout totally mess ch...</td>\n",
       "      <td>Negative</td>\n",
       "      <td>0</td>\n",
       "    </tr>\n",
       "  </tbody>\n",
       "</table>\n",
       "</div>"
      ],
      "text/plain": [
       "   score  thumbsupcount                   at               appid  \\\n",
       "0      1            881  2021-03-05 10:53:50  com.android.chrome   \n",
       "1      1            570  2021-03-06 20:56:06  com.android.chrome   \n",
       "2      1             31  2021-03-05 19:19:02  com.android.chrome   \n",
       "3      1            148  2021-03-04 09:21:44  com.android.chrome   \n",
       "4      1             41  2021-03-05 13:20:29  com.android.chrome   \n",
       "\n",
       "                                             content  \\\n",
       "0  just got the update and now chrome has just st...   \n",
       "1  i used to love this but the grouped tabs are i...   \n",
       "2  i was super happy with chrome for android this...   \n",
       "3  when i enter google on my phone and enter a ce...   \n",
       "4  the new update is total bs the tab layout is t...   \n",
       "\n",
       "                                          lemmatized     label  target  \n",
       "0  get update chrome stop work reason try clear c...  Negative       0  \n",
       "1  love group tab illogical add extra click want ...  Negative       0  \n",
       "2  super happy chrome android change immediately ...  Negative       0  \n",
       "3  enter google phone enter certain site switch g...  Negative       0  \n",
       "4  new update total bs tab layout totally mess ch...  Negative       0  "
      ]
     },
     "execution_count": 104,
     "metadata": {},
     "output_type": "execute_result"
    }
   ],
   "source": [
    "data_clean.head()"
   ]
  },
  {
   "cell_type": "code",
   "execution_count": 105,
   "id": "civil-sterling",
   "metadata": {},
   "outputs": [
    {
     "data": {
      "text/plain": [
       "(31387, 8)"
      ]
     },
     "execution_count": 105,
     "metadata": {},
     "output_type": "execute_result"
    }
   ],
   "source": [
    "data_clean.shape"
   ]
  },
  {
   "cell_type": "markdown",
   "id": "educated-yugoslavia",
   "metadata": {},
   "source": [
    "# Sentiment Analysis with TFIDF and Random Forest\n"
   ]
  },
  {
   "cell_type": "code",
   "execution_count": 106,
   "id": "listed-destination",
   "metadata": {},
   "outputs": [],
   "source": [
    "# defining X\n",
    "\n",
    "features = data_clean.drop(columns= [\"appid\", \"label\", \"at\", \"content\", \"thumbsupcount\", \"score\", \"target\"], axis=1)"
   ]
  },
  {
   "cell_type": "code",
   "execution_count": 107,
   "id": "mature-belly",
   "metadata": {},
   "outputs": [
    {
     "data": {
      "text/html": [
       "<div>\n",
       "<style scoped>\n",
       "    .dataframe tbody tr th:only-of-type {\n",
       "        vertical-align: middle;\n",
       "    }\n",
       "\n",
       "    .dataframe tbody tr th {\n",
       "        vertical-align: top;\n",
       "    }\n",
       "\n",
       "    .dataframe thead th {\n",
       "        text-align: right;\n",
       "    }\n",
       "</style>\n",
       "<table border=\"1\" class=\"dataframe\">\n",
       "  <thead>\n",
       "    <tr style=\"text-align: right;\">\n",
       "      <th></th>\n",
       "      <th>lemmatized</th>\n",
       "    </tr>\n",
       "  </thead>\n",
       "  <tbody>\n",
       "    <tr>\n",
       "      <th>0</th>\n",
       "      <td>get update chrome stop work reason try clear c...</td>\n",
       "    </tr>\n",
       "    <tr>\n",
       "      <th>1</th>\n",
       "      <td>love group tab illogical add extra click want ...</td>\n",
       "    </tr>\n",
       "    <tr>\n",
       "      <th>2</th>\n",
       "      <td>super happy chrome android change immediately ...</td>\n",
       "    </tr>\n",
       "    <tr>\n",
       "      <th>3</th>\n",
       "      <td>enter google phone enter certain site switch g...</td>\n",
       "    </tr>\n",
       "    <tr>\n",
       "      <th>4</th>\n",
       "      <td>new update total bs tab layout totally mess ch...</td>\n",
       "    </tr>\n",
       "    <tr>\n",
       "      <th>...</th>\n",
       "      <td>...</td>\n",
       "    </tr>\n",
       "    <tr>\n",
       "      <th>46109</th>\n",
       "      <td>good</td>\n",
       "    </tr>\n",
       "    <tr>\n",
       "      <th>46110</th>\n",
       "      <td>good fun</td>\n",
       "    </tr>\n",
       "    <tr>\n",
       "      <th>46111</th>\n",
       "      <td>noyon</td>\n",
       "    </tr>\n",
       "    <tr>\n",
       "      <th>46112</th>\n",
       "      <td>nice free app</td>\n",
       "    </tr>\n",
       "    <tr>\n",
       "      <th>46113</th>\n",
       "      <td>fast time</td>\n",
       "    </tr>\n",
       "  </tbody>\n",
       "</table>\n",
       "<p>31387 rows × 1 columns</p>\n",
       "</div>"
      ],
      "text/plain": [
       "                                              lemmatized\n",
       "0      get update chrome stop work reason try clear c...\n",
       "1      love group tab illogical add extra click want ...\n",
       "2      super happy chrome android change immediately ...\n",
       "3      enter google phone enter certain site switch g...\n",
       "4      new update total bs tab layout totally mess ch...\n",
       "...                                                  ...\n",
       "46109                                               good\n",
       "46110                                           good fun\n",
       "46111                                              noyon\n",
       "46112                                      nice free app\n",
       "46113                                          fast time\n",
       "\n",
       "[31387 rows x 1 columns]"
      ]
     },
     "execution_count": 107,
     "metadata": {},
     "output_type": "execute_result"
    }
   ],
   "source": [
    "features"
   ]
  },
  {
   "cell_type": "code",
   "execution_count": 108,
   "id": "fiscal-thousand",
   "metadata": {},
   "outputs": [],
   "source": [
    "labels = data_clean[\"target\"]"
   ]
  },
  {
   "cell_type": "code",
   "execution_count": 109,
   "id": "excess-package",
   "metadata": {},
   "outputs": [
    {
     "data": {
      "text/plain": [
       "0    16220\n",
       "1    15167\n",
       "Name: target, dtype: int64"
      ]
     },
     "execution_count": 109,
     "metadata": {},
     "output_type": "execute_result"
    }
   ],
   "source": [
    "labels.value_counts()"
   ]
  },
  {
   "cell_type": "markdown",
   "id": "chronic-ethernet",
   "metadata": {},
   "source": [
    "### Apply Random Forest\n",
    "source: https://www.kaggle.com/onadegibert/sentiment-analysis-with-tfidf-and-random-forest"
   ]
  },
  {
   "cell_type": "code",
   "execution_count": 110,
   "id": "imported-quilt",
   "metadata": {},
   "outputs": [
    {
     "name": "stdout",
     "output_type": "stream",
     "text": [
      "Data distribution:\n",
      "- Train: 1569 \n",
      "- Test: 1569\n"
     ]
    }
   ],
   "source": [
    "from sklearn.model_selection import train_test_split\n",
    "\n",
    "#features = imdb.drop(\"label\",axis=1)\n",
    "#labels = imdb[\"label\"]\n",
    "\n",
    "X_train, X_test, y_train, y_test = train_test_split(features,labels,test_size = 0.90, random_state=42)\n",
    "X_train, X_test, y_train, y_test = train_test_split(X_train,y_train,test_size = 0.5, random_state=42)\n",
    "#X_val, X_test_val, y_val, y_test_val = train_test_split(X_test,y_test,test_size = 0.5, random_state=42)\n",
    "\n",
    "print(\"Data distribution:\\n- Train: {} \\n- Test: {}\".format(len(y_train), len(y_test)))"
   ]
  },
  {
   "cell_type": "code",
   "execution_count": 111,
   "id": "distinguished-divide",
   "metadata": {},
   "outputs": [
    {
     "name": "stdout",
     "output_type": "stream",
     "text": [
      "[0.72611465 0.70382166 0.75159236 0.6910828  0.73801917]\n"
     ]
    },
    {
     "data": {
      "text/plain": [
       "0.7221261268594452"
      ]
     },
     "execution_count": 111,
     "metadata": {},
     "output_type": "execute_result"
    }
   ],
   "source": [
    "from sklearn.feature_extraction.text import TfidfVectorizer\n",
    "from sklearn.ensemble import RandomForestClassifier\n",
    "from sklearn.model_selection import cross_val_score\n",
    "\n",
    "# clean again the text\n",
    "\n",
    "def clean(text):\n",
    "    wn = nltk.WordNetLemmatizer()\n",
    "    stopword = nltk.corpus.stopwords.words('english')\n",
    "    tokens = nltk.word_tokenize(text)\n",
    "    lower = [word.lower() for word in tokens]\n",
    "    no_stopwords = [word for word in lower if word not in stopword]\n",
    "    no_alpha = [word for word in no_stopwords if word.isalpha()]\n",
    "    lemm_text = [wn.lemmatize(word) for word in no_alpha]\n",
    "    clean_text = lemm_text\n",
    "    return clean_text\n",
    "\n",
    "# Vectorize\n",
    "\n",
    "def vectorize(data,tfidf_vect_fit):\n",
    "    X_tfidf = tfidf_vect_fit.transform(data)\n",
    "    words = tfidf_vect_fit.get_feature_names()\n",
    "    X_tfidf_df = pd.DataFrame(X_tfidf.toarray())\n",
    "    X_tfidf_df.columns = words\n",
    "    return(X_tfidf_df)\n",
    "\n",
    "# convert the word in numbers\n",
    "tfidf_vect = TfidfVectorizer(analyzer=clean)\n",
    "tfidf_vect_fit=tfidf_vect.fit(X_train['lemmatized'])\n",
    "X_train=vectorize(X_train['lemmatized'],tfidf_vect_fit)\n",
    "\n",
    "\n",
    "# running the model\n",
    "rf = RandomForestClassifier(random_state=0)\n",
    "scores = cross_val_score(rf,X_train,y_train.values.ravel(),cv=5)\n",
    "\n",
    "print(scores)\n",
    "scores.mean()"
   ]
  },
  {
   "cell_type": "code",
   "execution_count": 112,
   "id": "angry-south",
   "metadata": {},
   "outputs": [
    {
     "data": {
      "text/plain": [
       "(1569, 3231)"
      ]
     },
     "execution_count": 112,
     "metadata": {},
     "output_type": "execute_result"
    }
   ],
   "source": [
    "X_train.shape\n"
   ]
  },
  {
   "cell_type": "code",
   "execution_count": 113,
   "id": "naughty-lotus",
   "metadata": {},
   "outputs": [],
   "source": [
    "# Store the model as picklefile\n",
    "import pickle\n",
    "with open('model_trained_apss_final', 'wb') as picklefile:\n",
    "    pickle.dump(rf,picklefile)\n"
   ]
  },
  {
   "cell_type": "code",
   "execution_count": null,
   "id": "adaptive-string",
   "metadata": {},
   "outputs": [],
   "source": []
  }
 ],
 "metadata": {
  "kernelspec": {
   "display_name": "Python 3",
   "language": "python",
   "name": "python3"
  },
  "language_info": {
   "codemirror_mode": {
    "name": "ipython",
    "version": 3
   },
   "file_extension": ".py",
   "mimetype": "text/x-python",
   "name": "python",
   "nbconvert_exporter": "python",
   "pygments_lexer": "ipython3",
   "version": "3.9.1"
  }
 },
 "nbformat": 4,
 "nbformat_minor": 5
}
